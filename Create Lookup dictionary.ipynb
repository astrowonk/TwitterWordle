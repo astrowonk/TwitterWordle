{
 "cells": [
  {
   "cell_type": "code",
   "execution_count": 5,
   "id": "0738d83c",
   "metadata": {
    "ExecuteTime": {
     "end_time": "2022-02-01T22:00:33.291996Z",
     "start_time": "2022-02-01T22:00:33.220866Z"
    }
   },
   "outputs": [],
   "source": [
    "import pandas as pd\n",
    "from concurrent.futures import ProcessPoolExecutor\n",
    "from tqdm.notebook import tqdm\n",
    "from functools  import partial\n",
    "import random"
   ]
  },
  {
   "cell_type": "markdown",
   "id": "689b6403",
   "metadata": {},
   "source": [
    "### Basic Methodolgy\n",
    "\n",
    "\n",
    "The source code in `helper.py` can be examined directly. The basic process:\n",
    "\n",
    "1. For every target word create a dictionary of the wordle line score for each possible 12000+ guess:\n",
    "\n",
    "```python\n",
    "    [{\n",
    "        'score': get_num_line(x, target_word),\n",
    "        'target': target_word,\n",
    "        'guess': x\n",
    "    } for x in short_words]\n",
    "```\n",
    "2. Then using that list as input, convert the score to a string, and for every unique result string, e.g. 11010 compute the sum of the word frequencies that could produce that string. If it's only one rare word `aahed` then it'll be a low (0) value. If it's several common words it will be high. Each target word now has its own dictionary that looks like:\n",
    "\n",
    "```\n",
    "{'00000': 12134875945,\n",
    " '00001': 1061445461,\n",
    " '00002': 2490766909,\n",
    " '00010': 2277035094,\n",
    " '00011': 74674653,\n",
    " '00012': 349391730,\n",
    " '00020': 732438223,\n",
    " '00021': 5105185,\n",
    " '00022': 53822692,\n",
    " '00100': 6964659770,\n",
    " '00101': 166668574,\n",
    " '00102': 1014367158,\n",
    " '00110': 772725995,\n",
    " '00111': 3277303,\n",
    " '00112': 9080173\n",
    " ...\n",
    " }\n",
    " \n",
    "``` \n",
    "\n",
    "That is all the precomputed data needed to solve for wordles!"
   ]
  },
  {
   "cell_type": "markdown",
   "id": "957aad04",
   "metadata": {},
   "source": [
    "### Read in target and guessable words"
   ]
  },
  {
   "cell_type": "code",
   "execution_count": 1,
   "id": "9ce96fa0",
   "metadata": {
    "ExecuteTime": {
     "end_time": "2022-02-02T03:49:52.128162Z",
     "start_time": "2022-02-02T03:49:52.090931Z"
    }
   },
   "outputs": [],
   "source": [
    "\n",
    "all_words = pd.read_csv('wordle-dictionary-full.txt',header=None)[0].tolist()\n",
    "target_words = pd.read_csv('wordle-targets_2022-02-15.txt',header=None)[0].tolist()"
   ]
  },
  {
   "cell_type": "markdown",
   "id": "2df99f55",
   "metadata": {
    "ExecuteTime": {
     "end_time": "2022-02-01T14:59:55.395267Z",
     "start_time": "2022-02-01T14:59:55.340098Z"
    }
   },
   "source": [
    "### Load the functions from helper.py and make the frequencies"
   ]
  },
  {
   "cell_type": "code",
   "execution_count": 2,
   "id": "92e693f0",
   "metadata": {
    "ExecuteTime": {
     "end_time": "2022-02-01T22:00:34.540624Z",
     "start_time": "2022-02-01T22:00:34.502556Z"
    }
   },
   "outputs": [],
   "source": [
    "\n",
    "from helper import helper_func,make_freqs"
   ]
  },
  {
   "cell_type": "markdown",
   "id": "ce55ccd8",
   "metadata": {},
   "source": [
    "The `make_freqs` func is borrowed from the original kaggle project. It ranks commonalitiy derived from the Google Web Trillion Word Corpus and [is available on Kaggle](https://www.kaggle.com/rtatman/english-word-frequency) for all guessable wordle words."
   ]
  },
  {
   "cell_type": "code",
   "execution_count": 3,
   "id": "0989c7ca",
   "metadata": {
    "ExecuteTime": {
     "end_time": "2022-02-01T22:00:36.635559Z",
     "start_time": "2022-02-01T22:00:35.244385Z"
    }
   },
   "outputs": [],
   "source": [
    "freqs = make_freqs()"
   ]
  },
  {
   "cell_type": "markdown",
   "id": "816b38a6",
   "metadata": {
    "ExecuteTime": {
     "end_time": "2022-02-01T15:04:39.396882Z",
     "start_time": "2022-02-01T15:04:39.386507Z"
    }
   },
   "source": [
    "Here we can see the results. The function inserts 0s for missing words (not a minimum value as the function originally did)"
   ]
  },
  {
   "cell_type": "code",
   "execution_count": 6,
   "id": "51239150",
   "metadata": {
    "ExecuteTime": {
     "end_time": "2022-02-01T22:00:37.838721Z",
     "start_time": "2022-02-01T22:00:37.807965Z"
    }
   },
   "outputs": [
    {
     "name": "stdout",
     "output_type": "stream",
     "text": [
      "lutea - 94001\n",
      "volts - 2454421\n",
      "raxed - 0\n",
      "mobey - 0\n",
      "bling - 1627355\n",
      "wifes - 563949\n",
      "funny - 34281806\n",
      "bimah - 0\n",
      "chill - 4489643\n",
      "dyers - 89927\n"
     ]
    }
   ],
   "source": [
    "for s in random.sample(all_words,10):\n",
    "    print(f\"{s} - {freqs.get(s,0)}\")\n"
   ]
  },
  {
   "cell_type": "markdown",
   "id": "15ae9ec3",
   "metadata": {},
   "source": [
    "### Run the code on all target words"
   ]
  },
  {
   "cell_type": "code",
   "execution_count": 7,
   "id": "f568a8ff",
   "metadata": {
    "ExecuteTime": {
     "end_time": "2022-02-02T03:39:18.340669Z",
     "start_time": "2022-02-02T03:39:18.297973Z"
    }
   },
   "outputs": [
    {
     "data": {
      "application/vnd.jupyter.widget-view+json": {
       "model_id": "07a407a626734b63bcfdb6a48e149571",
       "version_major": 2,
       "version_minor": 0
      },
      "text/plain": [
       "  0%|          | 0/2309 [00:00<?, ?it/s]"
      ]
     },
     "metadata": {},
     "output_type": "display_data"
    }
   ],
   "source": [
    "\n",
    "p = partial(helper_func,freqs=freqs)\n",
    "\n",
    "with ProcessPoolExecutor(max_workers=8) as executor:\n",
    "    all_enhanced_counters = list(tqdm(executor.map(p, target_words), total=len(target_words)))\n"
   ]
  },
  {
   "cell_type": "code",
   "execution_count": 8,
   "id": "6c09a19a",
   "metadata": {
    "ExecuteTime": {
     "end_time": "2022-02-01T22:01:56.999834Z",
     "start_time": "2022-02-01T22:01:56.970193Z"
    }
   },
   "outputs": [],
   "source": [
    "zipped_counters = list(zip(target_words, all_enhanced_counters))"
   ]
  },
  {
   "cell_type": "markdown",
   "id": "00e2e923",
   "metadata": {
    "ExecuteTime": {
     "end_time": "2022-02-02T03:42:04.614606Z",
     "start_time": "2022-02-02T03:42:04.559267Z"
    }
   },
   "source": [
    "### Save the file"
   ]
  },
  {
   "cell_type": "code",
   "execution_count": 10,
   "id": "1ffc7c3d",
   "metadata": {},
   "outputs": [],
   "source": [
    "import json\n",
    "json.dump(zipped_counters, open( \"zipped_counters_nyt_2022_02_15.json\", \"w\" ),indent=4 )"
   ]
  },
  {
   "cell_type": "code",
   "execution_count": 9,
   "id": "cae6d398",
   "metadata": {
    "ExecuteTime": {
     "end_time": "2022-02-01T22:01:57.720301Z",
     "start_time": "2022-02-01T22:01:57.631496Z"
    }
   },
   "outputs": [],
   "source": [
    "# pickle.dump(zipped_counters, open( \"zipped_counters_nyt_2022_02_15.pickle\", \"wb\" ) )"
   ]
  },
  {
   "cell_type": "markdown",
   "id": "c0fc1c75",
   "metadata": {},
   "source": [
    "### Run the same code on _all_ the guessable words\n",
    "\n",
    "One might feel that using the 2315 target dictionary is too much inside information (which [I think for my other bot](https://twitter.com/thewordlebot/status/1481628447541809162?s=20&t=XikGUr5F4Pb2ICovJigjdA)). We can precompute the dictionaries for all 12000 guessable words instead.\n",
    "\n",
    "Since some of the true wordle answers might score 0 in our frequency dictionary (the number is actually 1), so I'll remake the `freq` dictionary with a non-zero minimum value.\n",
    "\n",
    "This dataset can be accessed in the class with `TwitterWordle(use_limited_targets=False)`"
   ]
  },
  {
   "cell_type": "code",
   "execution_count": null,
   "id": "9af4614e",
   "metadata": {},
   "outputs": [],
   "source": [
    "new_freqs = {key:(max(val,12716)) for key,val in freqs.items()}\n",
    "p = partial(helper_func,freqs=new_freqs)\n",
    "\n",
    "with ProcessPoolExecutor(max_workers=8) as executor:\n",
    "    all_enhanced_counters_full_list = list(tqdm(executor.map(p, all_words), total=len(all_words)))\n",
    "\n",
    "import pickle\n",
    "\n",
    "pickle.dump(all_enhanced_counters_full_list, open( \"zipped_counters_allwords.pickle\", \"wb\" ) )"
   ]
  }
 ],
 "metadata": {
  "kernelspec": {
   "display_name": "Python 3 (ipykernel)",
   "language": "python",
   "name": "python3"
  },
  "language_info": {
   "codemirror_mode": {
    "name": "ipython",
    "version": 3
   },
   "file_extension": ".py",
   "mimetype": "text/x-python",
   "name": "python",
   "nbconvert_exporter": "python",
   "pygments_lexer": "ipython3",
   "version": "3.9.6"
  },
  "toc": {
   "base_numbering": 1,
   "nav_menu": {},
   "number_sections": true,
   "sideBar": true,
   "skip_h1_title": false,
   "title_cell": "Table of Contents",
   "title_sidebar": "Contents",
   "toc_cell": false,
   "toc_position": {},
   "toc_section_display": true,
   "toc_window_display": false
  }
 },
 "nbformat": 4,
 "nbformat_minor": 5
}
