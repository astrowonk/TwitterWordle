{
 "cells": [
  {
   "cell_type": "markdown",
   "id": "b33f69da",
   "metadata": {},
   "source": [
    "## Wordle Opener Analysis from Tweets\n",
    "\n",
    "Wordle tweet data is a useful data source and can, for example, [accurately predict](https://twitter.com/thewordlebot/status/1498661373626265600) the wordle solution for the day, as is demonstrated by other code in this repository. Analyzing the popularity of wordle openers is a little harder, since on any given day all we know are the most popular opening patterns. e.g. 🟨🟩⬜⬜⬜. I used a Ridge linear regression to look for popular openers across multiple wordles.\n",
    "\n",
    "TDLR; the most common openers are below, though bear in mind even `adieu` is estimated to be only 1.2-5% of all openers. \n",
    "\n",
    "1. adieu\n",
    "2. audio\n",
    "3. stare\n",
    "4. crane\n",
    "5. irate\n",
    "6. arise\n",
    "7. addio [^1]\n",
    "8. heart\n",
    "9. great\n",
    "10. arose\n",
    "11. train\n",
    "12. crate\n",
    "13. raise\n",
    "14. tears\n",
    "15. roate\n",
    "\n",
    "[^1]: A false positive due to similarity with audio.\n",
    "\n"
   ]
  },
  {
   "cell_type": "markdown",
   "id": "eef90487",
   "metadata": {},
   "source": [
    "\n",
    "\n",
    "### Load and prep the data\n",
    "Most of the functionality used is in the files `first_word.py`. The function `make_first_guess_list` creates a useful dataframe for analysis.\n",
    "\n",
    "I start with the excellent kaggle data set [wordle-tweets](https://www.kaggle.com/benhamner/wordle-tweets) and extract directly from the zipfile which I download with the [kaggle api](https://github.com/Kaggle/kaggle-api). The `get_first_words` function processes the dataframe:\n",
    "\n",
    "    1. It removes tweeted scores that contain an invalid score line for that answer (likely played on a cached version of the puzzle, not the live one on the NY Times site).\n",
    "    2. It removes any tweets that have more than 6 score patterns.\n",
    "    3. It extracts the first pattern from the tweeted scores.\n",
    "    4. It maps on the answer for a given wordle id.\n",
    "    5. It groups by the answer for the day, and creates a dataframe that has score, target, guess, and some data on how popular that score is."
   ]
  },
  {
   "cell_type": "code",
   "execution_count": 38,
   "id": "26b3af68",
   "metadata": {
    "ExecuteTime": {
     "end_time": "2022-03-22T00:40:22.941562Z",
     "start_time": "2022-03-22T00:40:12.917777Z"
    }
   },
   "outputs": [
    {
     "name": "stdout",
     "output_type": "stream",
     "text": [
      "Max wordle num 292\n",
      "Filtered out 18702 of 417372 rows\n"
     ]
    }
   ],
   "source": [
    "from first_word import make_first_guest_list\n",
    "df = make_first_guest_list()"
   ]
  },
  {
   "cell_type": "code",
   "execution_count": 39,
   "id": "2147399f",
   "metadata": {
    "ExecuteTime": {
     "end_time": "2022-03-22T00:23:32.550718Z",
     "start_time": "2022-03-22T00:23:32.530900Z"
    }
   },
   "outputs": [
    {
     "data": {
      "text/html": [
       "<div>\n",
       "<style scoped>\n",
       "    .dataframe tbody tr th:only-of-type {\n",
       "        vertical-align: middle;\n",
       "    }\n",
       "\n",
       "    .dataframe tbody tr th {\n",
       "        vertical-align: top;\n",
       "    }\n",
       "\n",
       "    .dataframe thead th {\n",
       "        text-align: right;\n",
       "    }\n",
       "</style>\n",
       "<table border=\"1\" class=\"dataframe\">\n",
       "  <thead>\n",
       "    <tr style=\"text-align: right;\">\n",
       "      <th></th>\n",
       "      <th>score</th>\n",
       "      <th>target</th>\n",
       "      <th>guess</th>\n",
       "      <th>score_frequency_rank</th>\n",
       "      <th>score_count_fraction</th>\n",
       "      <th>wordle_num</th>\n",
       "      <th>guess_count</th>\n",
       "      <th>commonality</th>\n",
       "      <th>weighted_rank</th>\n",
       "    </tr>\n",
       "  </thead>\n",
       "  <tbody>\n",
       "    <tr>\n",
       "      <th>0</th>\n",
       "      <td>21000</td>\n",
       "      <td>ahead</td>\n",
       "      <td>aalii</td>\n",
       "      <td>60.0</td>\n",
       "      <td>0.001005</td>\n",
       "      <td>258</td>\n",
       "      <td>23</td>\n",
       "      <td>0</td>\n",
       "      <td>3600.0</td>\n",
       "    </tr>\n",
       "    <tr>\n",
       "      <th>1</th>\n",
       "      <td>21001</td>\n",
       "      <td>ahead</td>\n",
       "      <td>aargh</td>\n",
       "      <td>52.0</td>\n",
       "      <td>0.001724</td>\n",
       "      <td>258</td>\n",
       "      <td>7</td>\n",
       "      <td>71592</td>\n",
       "      <td>2704.0</td>\n",
       "    </tr>\n",
       "    <tr>\n",
       "      <th>2</th>\n",
       "      <td>21000</td>\n",
       "      <td>ahead</td>\n",
       "      <td>aarti</td>\n",
       "      <td>60.0</td>\n",
       "      <td>0.001005</td>\n",
       "      <td>258</td>\n",
       "      <td>23</td>\n",
       "      <td>63273</td>\n",
       "      <td>3600.0</td>\n",
       "    </tr>\n",
       "    <tr>\n",
       "      <th>3</th>\n",
       "      <td>20100</td>\n",
       "      <td>ahead</td>\n",
       "      <td>abaca</td>\n",
       "      <td>10.0</td>\n",
       "      <td>0.040937</td>\n",
       "      <td>258</td>\n",
       "      <td>63</td>\n",
       "      <td>79841</td>\n",
       "      <td>100.0</td>\n",
       "    </tr>\n",
       "    <tr>\n",
       "      <th>4</th>\n",
       "      <td>20100</td>\n",
       "      <td>ahead</td>\n",
       "      <td>abaci</td>\n",
       "      <td>10.0</td>\n",
       "      <td>0.040937</td>\n",
       "      <td>258</td>\n",
       "      <td>63</td>\n",
       "      <td>0</td>\n",
       "      <td>100.0</td>\n",
       "    </tr>\n",
       "    <tr>\n",
       "      <th>...</th>\n",
       "      <td>...</td>\n",
       "      <td>...</td>\n",
       "      <td>...</td>\n",
       "      <td>...</td>\n",
       "      <td>...</td>\n",
       "      <td>...</td>\n",
       "      <td>...</td>\n",
       "      <td>...</td>\n",
       "      <td>...</td>\n",
       "    </tr>\n",
       "    <tr>\n",
       "      <th>12940</th>\n",
       "      <td>01000</td>\n",
       "      <td>wrung</td>\n",
       "      <td>zuzim</td>\n",
       "      <td>7.0</td>\n",
       "      <td>0.050536</td>\n",
       "      <td>225</td>\n",
       "      <td>852</td>\n",
       "      <td>0</td>\n",
       "      <td>49.0</td>\n",
       "    </tr>\n",
       "    <tr>\n",
       "      <th>12941</th>\n",
       "      <td>00100</td>\n",
       "      <td>wrung</td>\n",
       "      <td>zygal</td>\n",
       "      <td>5.0</td>\n",
       "      <td>0.069694</td>\n",
       "      <td>225</td>\n",
       "      <td>1461</td>\n",
       "      <td>0</td>\n",
       "      <td>25.0</td>\n",
       "    </tr>\n",
       "    <tr>\n",
       "      <th>12942</th>\n",
       "      <td>00101</td>\n",
       "      <td>wrung</td>\n",
       "      <td>zygon</td>\n",
       "      <td>11.0</td>\n",
       "      <td>0.017046</td>\n",
       "      <td>225</td>\n",
       "      <td>153</td>\n",
       "      <td>15300</td>\n",
       "      <td>121.0</td>\n",
       "    </tr>\n",
       "    <tr>\n",
       "      <th>12943</th>\n",
       "      <td>00000</td>\n",
       "      <td>wrung</td>\n",
       "      <td>zymes</td>\n",
       "      <td>1.0</td>\n",
       "      <td>0.173631</td>\n",
       "      <td>225</td>\n",
       "      <td>4320</td>\n",
       "      <td>24137</td>\n",
       "      <td>1.0</td>\n",
       "    </tr>\n",
       "    <tr>\n",
       "      <th>12944</th>\n",
       "      <td>00000</td>\n",
       "      <td>wrung</td>\n",
       "      <td>zymic</td>\n",
       "      <td>1.0</td>\n",
       "      <td>0.173631</td>\n",
       "      <td>225</td>\n",
       "      <td>4320</td>\n",
       "      <td>30459</td>\n",
       "      <td>1.0</td>\n",
       "    </tr>\n",
       "  </tbody>\n",
       "</table>\n",
       "<p>1048545 rows × 9 columns</p>\n",
       "</div>"
      ],
      "text/plain": [
       "       score target  guess  score_frequency_rank  score_count_fraction  \\\n",
       "0      21000  ahead  aalii                  60.0              0.001005   \n",
       "1      21001  ahead  aargh                  52.0              0.001724   \n",
       "2      21000  ahead  aarti                  60.0              0.001005   \n",
       "3      20100  ahead  abaca                  10.0              0.040937   \n",
       "4      20100  ahead  abaci                  10.0              0.040937   \n",
       "...      ...    ...    ...                   ...                   ...   \n",
       "12940  01000  wrung  zuzim                   7.0              0.050536   \n",
       "12941  00100  wrung  zygal                   5.0              0.069694   \n",
       "12942  00101  wrung  zygon                  11.0              0.017046   \n",
       "12943  00000  wrung  zymes                   1.0              0.173631   \n",
       "12944  00000  wrung  zymic                   1.0              0.173631   \n",
       "\n",
       "       wordle_num  guess_count  commonality  weighted_rank  \n",
       "0             258           23            0         3600.0  \n",
       "1             258            7        71592         2704.0  \n",
       "2             258           23        63273         3600.0  \n",
       "3             258           63        79841          100.0  \n",
       "4             258           63            0          100.0  \n",
       "...           ...          ...          ...            ...  \n",
       "12940         225          852            0           49.0  \n",
       "12941         225         1461            0           25.0  \n",
       "12942         225          153        15300          121.0  \n",
       "12943         225         4320        24137            1.0  \n",
       "12944         225         4320        30459            1.0  \n",
       "\n",
       "[1048545 rows x 9 columns]"
      ]
     },
     "execution_count": 39,
     "metadata": {},
     "output_type": "execute_result"
    }
   ],
   "source": [
    "df\n",
    "import plotly.io as pio\n",
    "pio.renderers.default = \"png\""
   ]
  },
  {
   "cell_type": "markdown",
   "id": "196a6257",
   "metadata": {},
   "source": [
    "### Simple analysis\n",
    "\n",
    "We have a large dataframe of almost 600,000 columns. One row for every pattern and every guess for every wordle answer. A simple way to look at common starter words would be to group by the guess and look which words consistently rank high across several days."
   ]
  },
  {
   "cell_type": "code",
   "execution_count": 40,
   "id": "b033a4da",
   "metadata": {
    "ExecuteTime": {
     "end_time": "2022-03-22T00:23:32.596409Z",
     "start_time": "2022-03-22T00:23:32.552125Z"
    }
   },
   "outputs": [
    {
     "data": {
      "text/plain": [
       "guess\n",
       "adieu    2.512346\n",
       "braze    3.259259\n",
       "graze    3.345679\n",
       "craze    3.555556\n",
       "brave    4.506173\n",
       "grate    4.586420\n",
       "grave    4.592593\n",
       "crave    4.802469\n",
       "brane    4.856250\n",
       "brace    4.938272\n",
       "Name: score_frequency_rank, dtype: float64"
      ]
     },
     "execution_count": 40,
     "metadata": {},
     "output_type": "execute_result"
    }
   ],
   "source": [
    "df.groupby('guess')['score_frequency_rank'].mean().sort_values().head(10)"
   ]
  },
  {
   "cell_type": "markdown",
   "id": "d0c269e5",
   "metadata": {},
   "source": [
    "This analysis leaves a lot to be desired. While other evidence indicates `adieu` is a popular opener, it does not seem like `jazzy` would be one. Or for that matter, words with a `z`. \n",
    "\n",
    "The `00000` all grey pattern is fairly common, so words with uncommon letters will show up a lot since `00000` is common because of the sheer volume of words that can create the pattern. So what happens if we  filter out the null score? Not much..."
   ]
  },
  {
   "cell_type": "code",
   "execution_count": 41,
   "id": "5b973b6b",
   "metadata": {
    "ExecuteTime": {
     "end_time": "2022-03-22T00:23:32.705694Z",
     "start_time": "2022-03-22T00:23:32.597191Z"
    }
   },
   "outputs": [
    {
     "data": {
      "text/plain": [
       "guess\n",
       "adieu    2.701389\n",
       "braze    3.951613\n",
       "graze    4.015873\n",
       "craze    4.136364\n",
       "grate    5.210145\n",
       "audio    5.230263\n",
       "brane    5.471014\n",
       "brave    5.507937\n",
       "grave    5.546875\n",
       "crave    5.597015\n",
       "Name: score_frequency_rank, dtype: float64"
      ]
     },
     "execution_count": 41,
     "metadata": {},
     "output_type": "execute_result"
    }
   ],
   "source": [
    "df.query(\"score != '00000'\").groupby('guess')['score_frequency_rank'].mean().sort_values().head(10)"
   ]
  },
  {
   "cell_type": "markdown",
   "id": "fad6413a",
   "metadata": {},
   "source": [
    "So are people guessing `braze` first regularly or is something else going on? BRAZE's score line is common but what other words could make the same patern?"
   ]
  },
  {
   "cell_type": "code",
   "execution_count": 42,
   "id": "d34d20de",
   "metadata": {
    "ExecuteTime": {
     "end_time": "2022-03-22T00:23:32.744479Z",
     "start_time": "2022-03-22T00:23:32.706620Z"
    }
   },
   "outputs": [
    {
     "data": {
      "text/html": [
       "<div>\n",
       "<style scoped>\n",
       "    .dataframe tbody tr th:only-of-type {\n",
       "        vertical-align: middle;\n",
       "    }\n",
       "\n",
       "    .dataframe tbody tr th {\n",
       "        vertical-align: top;\n",
       "    }\n",
       "\n",
       "    .dataframe thead th {\n",
       "        text-align: right;\n",
       "    }\n",
       "</style>\n",
       "<table border=\"1\" class=\"dataframe\">\n",
       "  <thead>\n",
       "    <tr style=\"text-align: right;\">\n",
       "      <th></th>\n",
       "      <th>score</th>\n",
       "      <th>target</th>\n",
       "      <th>guess</th>\n",
       "      <th>score_frequency_rank</th>\n",
       "      <th>score_count_fraction</th>\n",
       "      <th>wordle_num</th>\n",
       "      <th>guess_count</th>\n",
       "      <th>commonality</th>\n",
       "      <th>weighted_rank</th>\n",
       "    </tr>\n",
       "  </thead>\n",
       "  <tbody>\n",
       "    <tr>\n",
       "      <th>5315</th>\n",
       "      <td>00101</td>\n",
       "      <td>pleat</td>\n",
       "      <td>image</td>\n",
       "      <td>9.0</td>\n",
       "      <td>0.029706</td>\n",
       "      <td>230</td>\n",
       "      <td>186</td>\n",
       "      <td>197874283</td>\n",
       "      <td>81.0</td>\n",
       "    </tr>\n",
       "    <tr>\n",
       "      <th>9847</th>\n",
       "      <td>00101</td>\n",
       "      <td>pleat</td>\n",
       "      <td>share</td>\n",
       "      <td>9.0</td>\n",
       "      <td>0.029706</td>\n",
       "      <td>230</td>\n",
       "      <td>186</td>\n",
       "      <td>119294241</td>\n",
       "      <td>81.0</td>\n",
       "    </tr>\n",
       "    <tr>\n",
       "      <th>11916</th>\n",
       "      <td>00101</td>\n",
       "      <td>pleat</td>\n",
       "      <td>until</td>\n",
       "      <td>9.0</td>\n",
       "      <td>0.029706</td>\n",
       "      <td>230</td>\n",
       "      <td>186</td>\n",
       "      <td>113090086</td>\n",
       "      <td>81.0</td>\n",
       "    </tr>\n",
       "    <tr>\n",
       "      <th>4576</th>\n",
       "      <td>00101</td>\n",
       "      <td>pleat</td>\n",
       "      <td>grade</td>\n",
       "      <td>9.0</td>\n",
       "      <td>0.029706</td>\n",
       "      <td>230</td>\n",
       "      <td>186</td>\n",
       "      <td>54275130</td>\n",
       "      <td>81.0</td>\n",
       "    </tr>\n",
       "    <tr>\n",
       "      <th>4011</th>\n",
       "      <td>00101</td>\n",
       "      <td>pleat</td>\n",
       "      <td>frame</td>\n",
       "      <td>9.0</td>\n",
       "      <td>0.029706</td>\n",
       "      <td>230</td>\n",
       "      <td>186</td>\n",
       "      <td>46079991</td>\n",
       "      <td>81.0</td>\n",
       "    </tr>\n",
       "    <tr>\n",
       "      <th>11974</th>\n",
       "      <td>00101</td>\n",
       "      <td>pleat</td>\n",
       "      <td>usage</td>\n",
       "      <td>9.0</td>\n",
       "      <td>0.029706</td>\n",
       "      <td>230</td>\n",
       "      <td>186</td>\n",
       "      <td>25440406</td>\n",
       "      <td>81.0</td>\n",
       "    </tr>\n",
       "    <tr>\n",
       "      <th>9850</th>\n",
       "      <td>00101</td>\n",
       "      <td>pleat</td>\n",
       "      <td>sharp</td>\n",
       "      <td>9.0</td>\n",
       "      <td>0.029706</td>\n",
       "      <td>230</td>\n",
       "      <td>186</td>\n",
       "      <td>24904199</td>\n",
       "      <td>81.0</td>\n",
       "    </tr>\n",
       "    <tr>\n",
       "      <th>4575</th>\n",
       "      <td>00101</td>\n",
       "      <td>pleat</td>\n",
       "      <td>grace</td>\n",
       "      <td>9.0</td>\n",
       "      <td>0.029706</td>\n",
       "      <td>230</td>\n",
       "      <td>186</td>\n",
       "      <td>17642126</td>\n",
       "      <td>81.0</td>\n",
       "    </tr>\n",
       "    <tr>\n",
       "      <th>12119</th>\n",
       "      <td>00101</td>\n",
       "      <td>pleat</td>\n",
       "      <td>villa</td>\n",
       "      <td>9.0</td>\n",
       "      <td>0.029706</td>\n",
       "      <td>230</td>\n",
       "      <td>186</td>\n",
       "      <td>17587586</td>\n",
       "      <td>81.0</td>\n",
       "    </tr>\n",
       "    <tr>\n",
       "      <th>10389</th>\n",
       "      <td>00101</td>\n",
       "      <td>pleat</td>\n",
       "      <td>solve</td>\n",
       "      <td>9.0</td>\n",
       "      <td>0.029706</td>\n",
       "      <td>230</td>\n",
       "      <td>186</td>\n",
       "      <td>13452150</td>\n",
       "      <td>81.0</td>\n",
       "    </tr>\n",
       "  </tbody>\n",
       "</table>\n",
       "</div>"
      ],
      "text/plain": [
       "       score target  guess  score_frequency_rank  score_count_fraction  \\\n",
       "5315   00101  pleat  image                   9.0              0.029706   \n",
       "9847   00101  pleat  share                   9.0              0.029706   \n",
       "11916  00101  pleat  until                   9.0              0.029706   \n",
       "4576   00101  pleat  grade                   9.0              0.029706   \n",
       "4011   00101  pleat  frame                   9.0              0.029706   \n",
       "11974  00101  pleat  usage                   9.0              0.029706   \n",
       "9850   00101  pleat  sharp                   9.0              0.029706   \n",
       "4575   00101  pleat  grace                   9.0              0.029706   \n",
       "12119  00101  pleat  villa                   9.0              0.029706   \n",
       "10389  00101  pleat  solve                   9.0              0.029706   \n",
       "\n",
       "       wordle_num  guess_count  commonality  weighted_rank  \n",
       "5315          230          186    197874283           81.0  \n",
       "9847          230          186    119294241           81.0  \n",
       "11916         230          186    113090086           81.0  \n",
       "4576          230          186     54275130           81.0  \n",
       "4011          230          186     46079991           81.0  \n",
       "11974         230          186     25440406           81.0  \n",
       "9850          230          186     24904199           81.0  \n",
       "4575          230          186     17642126           81.0  \n",
       "12119         230          186     17587586           81.0  \n",
       "10389         230          186     13452150           81.0  "
      ]
     },
     "execution_count": 42,
     "metadata": {},
     "output_type": "execute_result"
    }
   ],
   "source": [
    "df.query('score == \"00101\" and wordle_num == 230').sort_values('commonality',ascending=False).head(10)"
   ]
  },
  {
   "cell_type": "markdown",
   "id": "31c06d7d",
   "metadata": {},
   "source": [
    "There are a lot of words that make the same pattern, is `BRAZE` popular or is it riding the coattails of some other `_RA_E` word?"
   ]
  },
  {
   "cell_type": "markdown",
   "id": "0fa42b53",
   "metadata": {},
   "source": [
    "### Linear Regression\n",
    "\n",
    "A better approach is to control for the presence of other words. If BRAZE only does well when it's paired with GRACE or GRADE or SHARE than a linear regression should isolate the guesses that actually are predictive of a popular score count line. But, there will be a lot of colinearity so we will use a Ridge regression.\n",
    "\n",
    "The difficulty comes from getting the dataframe into the right format, thankfully I discovered [pd.crosstab](https://pandas.pydata.org/docs/reference/api/pandas.crosstab.html), and there are [other methods that were all better](https://stackoverflow.com/questions/46791626/one-hot-encoding-multi-level-column-data) than what I had been doing originally (an awful groupby loop than took over a minute.)"
   ]
  },
  {
   "cell_type": "code",
   "execution_count": 43,
   "id": "539c0da3",
   "metadata": {
    "ExecuteTime": {
     "end_time": "2022-03-22T00:31:20.165962Z",
     "start_time": "2022-03-22T00:31:09.875687Z"
    }
   },
   "outputs": [],
   "source": [
    "df.rename(columns={'score': 'score_pattern'}, inplace=True)\n",
    "\n",
    "one_hot_encoded_data = pd.crosstab(\n",
    "    [df['wordle_num'], df['score_pattern']], df['guess']).join(\n",
    "        df.groupby(['wordle_num',\n",
    "                    'score_pattern'])[['score_count_fraction',\n",
    "                                       'guess_count']].first()).reset_index()\n"
   ]
  },
  {
   "cell_type": "markdown",
   "id": "7b1ca61a",
   "metadata": {},
   "source": [
    "Now we'll sort of normalize the data a little and then fit a model. I will use a [Ridge](https://scikit-learn.org/stable/modules/linear_model.html#ridge-regression-and-classification) which helps control the size of the coefficients, and is neccessary to handle the colinearity of the variables."
   ]
  },
  {
   "cell_type": "code",
   "execution_count": 44,
   "id": "84e6b296",
   "metadata": {
    "ExecuteTime": {
     "end_time": "2022-03-22T00:31:20.699551Z",
     "start_time": "2022-03-22T00:31:20.167134Z"
    }
   },
   "outputs": [],
   "source": [
    "one_hot_encoded_data.dropna(subset=['score_count_fraction'],inplace=True) #don't need patterns no one actually guessed\n",
    "# actually not sure if fillna 0 would be better?\n",
    "std = one_hot_encoded_data['score_count_fraction'].std()\n",
    "# mean = one_hot_encoded_data['score_count_fraction'].mean()\n",
    "# one_hot_encoded_data['score_count_fraction'] = (one_hot_encoded_data[\n",
    "#     'score_count_fraction'] - mean) / std\n",
    "\n",
    "guess_count_std = one_hot_encoded_data[\n",
    "    'guess_count'].std()\n",
    "guess_count_mean = one_hot_encoded_data['guess_count'].mean()\n",
    "\n",
    "one_hot_encoded_data['guess_count'] = (one_hot_encoded_data[\n",
    "    'guess_count'] - guess_count_mean ) / guess_count_std"
   ]
  },
  {
   "cell_type": "code",
   "execution_count": 45,
   "id": "5acb1200",
   "metadata": {
    "ExecuteTime": {
     "end_time": "2022-03-22T00:31:20.719501Z",
     "start_time": "2022-03-22T00:31:20.700308Z"
    }
   },
   "outputs": [
    {
     "data": {
      "text/plain": [
       "0        0.099927\n",
       "1        0.015430\n",
       "3        0.092212\n",
       "4        0.002939\n",
       "6        0.008082\n",
       "           ...   \n",
       "11481    0.000294\n",
       "11482    0.000294\n",
       "11483    0.000294\n",
       "11486    0.005288\n",
       "11488    0.000588\n",
       "Name: score_count_fraction, Length: 7814, dtype: float64"
      ]
     },
     "execution_count": 45,
     "metadata": {},
     "output_type": "execute_result"
    }
   ],
   "source": [
    "one_hot_encoded_data['score_count_fraction']"
   ]
  },
  {
   "cell_type": "code",
   "execution_count": 46,
   "id": "643f3fb8",
   "metadata": {
    "ExecuteTime": {
     "end_time": "2022-03-22T00:31:52.847885Z",
     "start_time": "2022-03-22T00:31:23.802087Z"
    }
   },
   "outputs": [
    {
     "data": {
      "text/plain": [
       "RidgeCV(alphas=array([10, 25, 35, 50]))"
      ]
     },
     "execution_count": 46,
     "metadata": {},
     "output_type": "execute_result"
    }
   ],
   "source": [
    "from sklearn import linear_model\n",
    "data = one_hot_encoded_data.query(\"wordle_num != 258\") #explained further down, this data point has particularly bad colinearity issues\n",
    "X= data.drop(\n",
    "        columns=[ 'score_count_fraction', 'wordle_num','score_pattern']) # fit to the one hot encouded guesses and the total guess count\n",
    "y=data['score_count_fraction'] # our dependent is the fraction of guesses that had the score pattern\n",
    "\n",
    "r = linear_model.RidgeCV(alphas=[10,25,35,50])\n",
    "r.fit(X,y)\n",
    "\n"
   ]
  },
  {
   "cell_type": "markdown",
   "id": "4c38a873",
   "metadata": {},
   "source": [
    "#### Results!\n",
    "\n",
    "Now we can just look at the coefficients of the variables to see which ones most strongly predict a popular pattern. The top few guesses contain [some](https://yougov.co.uk/topics/entertainment/articles-reports/2022/02/03/wordle-starter-words-hard-mode-and-x6-how-are-brit) [familiar](https://today.yougov.com/topics/lifestyle/articles-reports/2022/02/18/wordle-willingness-to-pay-poll) choices. \n",
    "\n",
    "Though to repeat, `addio` is almost certainly not real but riding the coattails of `audio`.\n",
    "\n"
   ]
  },
  {
   "cell_type": "code",
   "execution_count": 47,
   "id": "3e027634",
   "metadata": {
    "ExecuteTime": {
     "end_time": "2022-03-22T00:31:52.872010Z",
     "start_time": "2022-03-22T00:31:52.849440Z"
    }
   },
   "outputs": [
    {
     "data": {
      "text/plain": [
       "25"
      ]
     },
     "execution_count": 47,
     "metadata": {},
     "output_type": "execute_result"
    }
   ],
   "source": [
    "r.alpha_"
   ]
  },
  {
   "cell_type": "code",
   "execution_count": 48,
   "id": "c98a9b58",
   "metadata": {
    "ExecuteTime": {
     "end_time": "2022-03-22T00:31:52.904358Z",
     "start_time": "2022-03-22T00:31:52.873342Z"
    }
   },
   "outputs": [
    {
     "data": {
      "text/html": [
       "<div>\n",
       "<style scoped>\n",
       "    .dataframe tbody tr th:only-of-type {\n",
       "        vertical-align: middle;\n",
       "    }\n",
       "\n",
       "    .dataframe tbody tr th {\n",
       "        vertical-align: top;\n",
       "    }\n",
       "\n",
       "    .dataframe thead th {\n",
       "        text-align: right;\n",
       "    }\n",
       "</style>\n",
       "<table border=\"1\" class=\"dataframe\">\n",
       "  <thead>\n",
       "    <tr style=\"text-align: right;\">\n",
       "      <th></th>\n",
       "      <th>coef</th>\n",
       "      <th>variable</th>\n",
       "    </tr>\n",
       "  </thead>\n",
       "  <tbody>\n",
       "    <tr>\n",
       "      <th>108</th>\n",
       "      <td>0.013261</td>\n",
       "      <td>adieu</td>\n",
       "    </tr>\n",
       "    <tr>\n",
       "      <th>633</th>\n",
       "      <td>0.008290</td>\n",
       "      <td>audio</td>\n",
       "    </tr>\n",
       "    <tr>\n",
       "      <th>10645</th>\n",
       "      <td>0.004953</td>\n",
       "      <td>stare</td>\n",
       "    </tr>\n",
       "    <tr>\n",
       "      <th>2362</th>\n",
       "      <td>0.004930</td>\n",
       "      <td>crane</td>\n",
       "    </tr>\n",
       "    <tr>\n",
       "      <th>5401</th>\n",
       "      <td>0.004632</td>\n",
       "      <td>irate</td>\n",
       "    </tr>\n",
       "    <tr>\n",
       "      <th>531</th>\n",
       "      <td>0.004390</td>\n",
       "      <td>arise</td>\n",
       "    </tr>\n",
       "    <tr>\n",
       "      <th>103</th>\n",
       "      <td>0.004288</td>\n",
       "      <td>addio</td>\n",
       "    </tr>\n",
       "    <tr>\n",
       "      <th>4926</th>\n",
       "      <td>0.004239</td>\n",
       "      <td>heart</td>\n",
       "    </tr>\n",
       "    <tr>\n",
       "      <th>4602</th>\n",
       "      <td>0.004040</td>\n",
       "      <td>great</td>\n",
       "    </tr>\n",
       "    <tr>\n",
       "      <th>547</th>\n",
       "      <td>0.003669</td>\n",
       "      <td>arose</td>\n",
       "    </tr>\n",
       "    <tr>\n",
       "      <th>11564</th>\n",
       "      <td>0.003484</td>\n",
       "      <td>train</td>\n",
       "    </tr>\n",
       "    <tr>\n",
       "      <th>2371</th>\n",
       "      <td>0.003477</td>\n",
       "      <td>crate</td>\n",
       "    </tr>\n",
       "    <tr>\n",
       "      <th>8839</th>\n",
       "      <td>0.003229</td>\n",
       "      <td>raise</td>\n",
       "    </tr>\n",
       "    <tr>\n",
       "      <th>11158</th>\n",
       "      <td>0.003051</td>\n",
       "      <td>tears</td>\n",
       "    </tr>\n",
       "    <tr>\n",
       "      <th>9227</th>\n",
       "      <td>0.002827</td>\n",
       "      <td>roate</td>\n",
       "    </tr>\n",
       "  </tbody>\n",
       "</table>\n",
       "</div>"
      ],
      "text/plain": [
       "           coef variable\n",
       "108    0.013261    adieu\n",
       "633    0.008290    audio\n",
       "10645  0.004953    stare\n",
       "2362   0.004930    crane\n",
       "5401   0.004632    irate\n",
       "531    0.004390    arise\n",
       "103    0.004288    addio\n",
       "4926   0.004239    heart\n",
       "4602   0.004040    great\n",
       "547    0.003669    arose\n",
       "11564  0.003484    train\n",
       "2371   0.003477    crate\n",
       "8839   0.003229    raise\n",
       "11158  0.003051    tears\n",
       "9227   0.002827    roate"
      ]
     },
     "execution_count": 48,
     "metadata": {},
     "output_type": "execute_result"
    }
   ],
   "source": [
    "top_openers = pd.DataFrame(list(zip(r.coef_, r.feature_names_in_)),\n",
    "         columns=['coef', 'variable']).sort_values('coef',ascending=False)\n",
    "top_openers.head(15)"
   ]
  },
  {
   "cell_type": "markdown",
   "id": "8bb21073",
   "metadata": {},
   "source": [
    "Wordle 258 (solution `ahead`) is creating an issue with `adieu` - only 4 other words create the same pattern and they are riding the coattails of adieu and creeping into the top lists. The guess count is only 5, so this looks like a strong signal but it's driven by adieu, rather than the popularity of `advew`. I decided the simplest thing is to remove the 258 data point. Otherwise, all 4 of the other words show up in the top 15.\n",
    "\n",
    "\n"
   ]
  },
  {
   "cell_type": "code",
   "execution_count": 49,
   "id": "815da09b",
   "metadata": {
    "ExecuteTime": {
     "end_time": "2022-03-22T00:31:52.962525Z",
     "start_time": "2022-03-22T00:31:52.907154Z"
    }
   },
   "outputs": [
    {
     "data": {
      "text/html": [
       "<div>\n",
       "<style scoped>\n",
       "    .dataframe tbody tr th:only-of-type {\n",
       "        vertical-align: middle;\n",
       "    }\n",
       "\n",
       "    .dataframe tbody tr th {\n",
       "        vertical-align: top;\n",
       "    }\n",
       "\n",
       "    .dataframe thead th {\n",
       "        text-align: right;\n",
       "    }\n",
       "</style>\n",
       "<table border=\"1\" class=\"dataframe\">\n",
       "  <thead>\n",
       "    <tr style=\"text-align: right;\">\n",
       "      <th></th>\n",
       "      <th>score_pattern</th>\n",
       "      <th>target</th>\n",
       "      <th>guess</th>\n",
       "      <th>score_frequency_rank</th>\n",
       "      <th>score_count_fraction</th>\n",
       "      <th>wordle_num</th>\n",
       "      <th>guess_count</th>\n",
       "      <th>commonality</th>\n",
       "      <th>weighted_rank</th>\n",
       "    </tr>\n",
       "  </thead>\n",
       "  <tbody>\n",
       "    <tr>\n",
       "      <th>102</th>\n",
       "      <td>21010</td>\n",
       "      <td>ahead</td>\n",
       "      <td>adder</td>\n",
       "      <td>3.0</td>\n",
       "      <td>0.065498</td>\n",
       "      <td>258</td>\n",
       "      <td>5</td>\n",
       "      <td>888956</td>\n",
       "      <td>9.0</td>\n",
       "    </tr>\n",
       "    <tr>\n",
       "      <th>108</th>\n",
       "      <td>21010</td>\n",
       "      <td>ahead</td>\n",
       "      <td>adieu</td>\n",
       "      <td>3.0</td>\n",
       "      <td>0.065498</td>\n",
       "      <td>258</td>\n",
       "      <td>5</td>\n",
       "      <td>274747</td>\n",
       "      <td>9.0</td>\n",
       "    </tr>\n",
       "    <tr>\n",
       "      <th>112</th>\n",
       "      <td>21010</td>\n",
       "      <td>ahead</td>\n",
       "      <td>admen</td>\n",
       "      <td>3.0</td>\n",
       "      <td>0.065498</td>\n",
       "      <td>258</td>\n",
       "      <td>5</td>\n",
       "      <td>0</td>\n",
       "      <td>9.0</td>\n",
       "    </tr>\n",
       "    <tr>\n",
       "      <th>130</th>\n",
       "      <td>21010</td>\n",
       "      <td>ahead</td>\n",
       "      <td>advew</td>\n",
       "      <td>3.0</td>\n",
       "      <td>0.065498</td>\n",
       "      <td>258</td>\n",
       "      <td>5</td>\n",
       "      <td>0</td>\n",
       "      <td>9.0</td>\n",
       "    </tr>\n",
       "    <tr>\n",
       "      <th>133</th>\n",
       "      <td>21010</td>\n",
       "      <td>ahead</td>\n",
       "      <td>adzes</td>\n",
       "      <td>3.0</td>\n",
       "      <td>0.065498</td>\n",
       "      <td>258</td>\n",
       "      <td>5</td>\n",
       "      <td>0</td>\n",
       "      <td>9.0</td>\n",
       "    </tr>\n",
       "  </tbody>\n",
       "</table>\n",
       "</div>"
      ],
      "text/plain": [
       "    score_pattern target  guess  score_frequency_rank  score_count_fraction  \\\n",
       "102         21010  ahead  adder                   3.0              0.065498   \n",
       "108         21010  ahead  adieu                   3.0              0.065498   \n",
       "112         21010  ahead  admen                   3.0              0.065498   \n",
       "130         21010  ahead  advew                   3.0              0.065498   \n",
       "133         21010  ahead  adzes                   3.0              0.065498   \n",
       "\n",
       "     wordle_num  guess_count  commonality  weighted_rank  \n",
       "102         258            5       888956            9.0  \n",
       "108         258            5       274747            9.0  \n",
       "112         258            5            0            9.0  \n",
       "130         258            5            0            9.0  \n",
       "133         258            5            0            9.0  "
      ]
     },
     "execution_count": 49,
     "metadata": {},
     "output_type": "execute_result"
    }
   ],
   "source": [
    "df.query('wordle_num == 258 and score_pattern == \"21010\"')"
   ]
  },
  {
   "cell_type": "code",
   "execution_count": 50,
   "id": "8330152c",
   "metadata": {
    "ExecuteTime": {
     "end_time": "2022-03-22T00:31:52.986518Z",
     "start_time": "2022-03-22T00:31:52.963662Z"
    }
   },
   "outputs": [
    {
     "name": "stdout",
     "output_type": "stream",
     "text": [
      "1. adieu\n",
      "2. audio\n",
      "3. stare\n",
      "4. crane\n",
      "5. irate\n",
      "6. arise\n",
      "7. addio\n",
      "8. heart\n",
      "9. great\n",
      "10. arose\n",
      "11. train\n",
      "12. crate\n",
      "13. raise\n",
      "14. tears\n",
      "15. roate\n"
     ]
    }
   ],
   "source": [
    "for i, var in enumerate(top_openers.query('variable != \"guess_count\"')['variable'].head(15)):\n",
    "    print(f\"{i+1}. {var}\")"
   ]
  },
  {
   "cell_type": "markdown",
   "id": "f177eb18",
   "metadata": {},
   "source": [
    "#### Just how popular is _adieu_?\n",
    "\n",
    "Ok, so _adieu_ is popular but exactly how many people are actually using it every day? To answer this, I looked at what fraction of all tweeted score patterns are consistent with `adieu` and plot that against how many other words could have also made that pattern."
   ]
  },
  {
   "cell_type": "code",
   "execution_count": 51,
   "id": "856d6399",
   "metadata": {
    "ExecuteTime": {
     "end_time": "2022-03-22T00:31:53.073717Z",
     "start_time": "2022-03-22T00:31:52.987612Z"
    }
   },
   "outputs": [
    {
     "data": {
      "image/png": "[encoded data removed]"
     },
     "metadata": {},
     "output_type": "display_data"
    }
   ],
   "source": [
    "guess = 'adieu'\n",
    "df.query(f'guess == @guess and guess_count < 400').sort_values(\n",
    "    'wordle_num').plot.scatter(\n",
    "        x='guess_count',\n",
    "        y='score_count_fraction',\n",
    "    hover_data=['score_pattern','wordle_num'],\n",
    "       # color='guess_count',\n",
    "        title=f'{guess.upper()} popularity',backend='plotly',\n",
    "       # color_continuous_scale='bluered',\n",
    "    )"
   ]
  },
  {
   "cell_type": "markdown",
   "id": "7cc1bbc0",
   "metadata": {},
   "source": [
    "So in the real data, the minimum fraction that was `adieu` was about 4%.\n",
    "\n",
    "One could try and extrapolate the points and fit a line to this to see what it would like at a guess_count of 1 from the above data, but of course, we already fit a model to the data. The fitted Ridge model can predict what `adieu` (and all the other top choices) would do with a guess count of 1 and where `adieu` was the only word that could make it:"
   ]
  },
  {
   "cell_type": "code",
   "execution_count": 52,
   "id": "d8b8fd0a",
   "metadata": {
    "ExecuteTime": {
     "end_time": "2022-03-22T00:34:17.784094Z",
     "start_time": "2022-03-22T00:34:17.598009Z"
    }
   },
   "outputs": [
    {
     "data": {
      "text/html": [
       "<div>\n",
       "<style scoped>\n",
       "    .dataframe tbody tr th:only-of-type {\n",
       "        vertical-align: middle;\n",
       "    }\n",
       "\n",
       "    .dataframe tbody tr th {\n",
       "        vertical-align: top;\n",
       "    }\n",
       "\n",
       "    .dataframe thead th {\n",
       "        text-align: right;\n",
       "    }\n",
       "</style>\n",
       "<table border=\"1\" class=\"dataframe\">\n",
       "  <thead>\n",
       "    <tr style=\"text-align: right;\">\n",
       "      <th></th>\n",
       "      <th>index</th>\n",
       "      <th>coef</th>\n",
       "      <th>variable</th>\n",
       "      <th>estimated_fraction</th>\n",
       "    </tr>\n",
       "  </thead>\n",
       "  <tbody>\n",
       "    <tr>\n",
       "      <th>0</th>\n",
       "      <td>108</td>\n",
       "      <td>0.013261</td>\n",
       "      <td>adieu</td>\n",
       "      <td>0.014153</td>\n",
       "    </tr>\n",
       "    <tr>\n",
       "      <th>1</th>\n",
       "      <td>633</td>\n",
       "      <td>0.008290</td>\n",
       "      <td>audio</td>\n",
       "      <td>0.009182</td>\n",
       "    </tr>\n",
       "    <tr>\n",
       "      <th>2</th>\n",
       "      <td>10645</td>\n",
       "      <td>0.004953</td>\n",
       "      <td>stare</td>\n",
       "      <td>0.005845</td>\n",
       "    </tr>\n",
       "    <tr>\n",
       "      <th>3</th>\n",
       "      <td>2362</td>\n",
       "      <td>0.004930</td>\n",
       "      <td>crane</td>\n",
       "      <td>0.005822</td>\n",
       "    </tr>\n",
       "    <tr>\n",
       "      <th>4</th>\n",
       "      <td>5401</td>\n",
       "      <td>0.004632</td>\n",
       "      <td>irate</td>\n",
       "      <td>0.005524</td>\n",
       "    </tr>\n",
       "    <tr>\n",
       "      <th>5</th>\n",
       "      <td>531</td>\n",
       "      <td>0.004390</td>\n",
       "      <td>arise</td>\n",
       "      <td>0.005283</td>\n",
       "    </tr>\n",
       "    <tr>\n",
       "      <th>6</th>\n",
       "      <td>103</td>\n",
       "      <td>0.004288</td>\n",
       "      <td>addio</td>\n",
       "      <td>0.005180</td>\n",
       "    </tr>\n",
       "    <tr>\n",
       "      <th>7</th>\n",
       "      <td>4926</td>\n",
       "      <td>0.004239</td>\n",
       "      <td>heart</td>\n",
       "      <td>0.005132</td>\n",
       "    </tr>\n",
       "    <tr>\n",
       "      <th>8</th>\n",
       "      <td>4602</td>\n",
       "      <td>0.004040</td>\n",
       "      <td>great</td>\n",
       "      <td>0.004932</td>\n",
       "    </tr>\n",
       "    <tr>\n",
       "      <th>9</th>\n",
       "      <td>547</td>\n",
       "      <td>0.003669</td>\n",
       "      <td>arose</td>\n",
       "      <td>0.004562</td>\n",
       "    </tr>\n",
       "    <tr>\n",
       "      <th>10</th>\n",
       "      <td>11564</td>\n",
       "      <td>0.003484</td>\n",
       "      <td>train</td>\n",
       "      <td>0.004376</td>\n",
       "    </tr>\n",
       "    <tr>\n",
       "      <th>11</th>\n",
       "      <td>2371</td>\n",
       "      <td>0.003477</td>\n",
       "      <td>crate</td>\n",
       "      <td>0.004369</td>\n",
       "    </tr>\n",
       "    <tr>\n",
       "      <th>12</th>\n",
       "      <td>8839</td>\n",
       "      <td>0.003229</td>\n",
       "      <td>raise</td>\n",
       "      <td>0.004121</td>\n",
       "    </tr>\n",
       "    <tr>\n",
       "      <th>13</th>\n",
       "      <td>11158</td>\n",
       "      <td>0.003051</td>\n",
       "      <td>tears</td>\n",
       "      <td>0.003943</td>\n",
       "    </tr>\n",
       "    <tr>\n",
       "      <th>14</th>\n",
       "      <td>9227</td>\n",
       "      <td>0.002827</td>\n",
       "      <td>roate</td>\n",
       "      <td>0.003719</td>\n",
       "    </tr>\n",
       "  </tbody>\n",
       "</table>\n",
       "</div>"
      ],
      "text/plain": [
       "    index      coef variable  estimated_fraction\n",
       "0     108  0.013261    adieu            0.014153\n",
       "1     633  0.008290    audio            0.009182\n",
       "2   10645  0.004953    stare            0.005845\n",
       "3    2362  0.004930    crane            0.005822\n",
       "4    5401  0.004632    irate            0.005524\n",
       "5     531  0.004390    arise            0.005283\n",
       "6     103  0.004288    addio            0.005180\n",
       "7    4926  0.004239    heart            0.005132\n",
       "8    4602  0.004040    great            0.004932\n",
       "9     547  0.003669    arose            0.004562\n",
       "10  11564  0.003484    train            0.004376\n",
       "11   2371  0.003477    crate            0.004369\n",
       "12   8839  0.003229    raise            0.004121\n",
       "13  11158  0.003051    tears            0.003943\n",
       "14   9227  0.002827    roate            0.003719"
      ]
     },
     "execution_count": 52,
     "metadata": {},
     "output_type": "execute_result"
    }
   ],
   "source": [
    "\n",
    "series_list = []\n",
    "for word in top_openers['variable'].head(15):\n",
    "    predict_dict = {word:1,'guess_count':(1 - guess_count_mean) / guess_count_std}\n",
    "    series_list.append(pd.Series({x:predict_dict.get(x,int(0)) for x in X.columns}))\n",
    "\n",
    "\n",
    "predict_on_this = pd.DataFrame(series_list)\n",
    "\n",
    "top_15 = top_openers.head(15).reset_index()\n",
    "top_15.loc[:,'estimated_fraction'] = r.predict(predict_on_this)\n",
    "top_15"
   ]
  },
  {
   "cell_type": "markdown",
   "id": "81947b5b",
   "metadata": {},
   "source": [
    "This indicates that `adieu` only represents 1.3% of starters. The infamous wordle 258 implies it's more like 6%, but we've seen it less than 6% even with more possible words. It could be that wordle 258 was something of an outlier. "
   ]
  },
  {
   "cell_type": "markdown",
   "id": "6ed77dc9",
   "metadata": {},
   "source": [
    "### CRANE\n",
    "\n",
    "On February 6, 3Blue1Brown released a video positing that [CRANE was the best opener](https://www.youtube.com/watch?v=v68zYyaEmEA). Though this was later [recanted](https://www.youtube.com/watch?v=fRed0Xmc2Wg), it generated plenty of [media](https://kotaku.com/wordle-starting-word-math-science-bot-algorithm-crane-p-1848496404) [coverage](https://www.forbes.com/sites/paultassi/2022/02/08/the-best-wordle-starter-word-a-first-guess-through-science/?sh=94c150a27909). CRANE was #3 on my list overall, how does it look before and after the video?"
   ]
  },
  {
   "cell_type": "code",
   "execution_count": 34,
   "id": "826b6c74",
   "metadata": {
    "ExecuteTime": {
     "end_time": "2022-03-22T00:24:17.910103Z",
     "start_time": "2022-03-22T00:24:13.088091Z"
    }
   },
   "outputs": [
    {
     "data": {
      "text/plain": [
       "Ridge(alpha=10)"
      ]
     },
     "execution_count": 34,
     "metadata": {},
     "output_type": "execute_result"
    }
   ],
   "source": [
    "data_recent = one_hot_encoded_data.query('wordle_num > 232')\n",
    "X= data_recent.drop(\n",
    "        columns=[ 'score_count_fraction', 'wordle_num']) # fit to the one hot encouded guesses and the total guess count\n",
    "y=data_recent['score_count_fraction'] # our dependent is the fraction of guesses that had the score pattern\n",
    "\n",
    "r = linear_model.Ridge(alpha=10)\n",
    "r.fit(X,y)\n",
    "\n"
   ]
  },
  {
   "cell_type": "code",
   "execution_count": 35,
   "id": "82534db6",
   "metadata": {
    "ExecuteTime": {
     "end_time": "2022-03-22T00:24:17.936339Z",
     "start_time": "2022-03-22T00:24:17.911031Z"
    }
   },
   "outputs": [
    {
     "data": {
      "text/html": [
       "<div>\n",
       "<style scoped>\n",
       "    .dataframe tbody tr th:only-of-type {\n",
       "        vertical-align: middle;\n",
       "    }\n",
       "\n",
       "    .dataframe tbody tr th {\n",
       "        vertical-align: top;\n",
       "    }\n",
       "\n",
       "    .dataframe thead th {\n",
       "        text-align: right;\n",
       "    }\n",
       "</style>\n",
       "<table border=\"1\" class=\"dataframe\">\n",
       "  <thead>\n",
       "    <tr style=\"text-align: right;\">\n",
       "      <th></th>\n",
       "      <th>coef</th>\n",
       "      <th>variable</th>\n",
       "    </tr>\n",
       "  </thead>\n",
       "  <tbody>\n",
       "    <tr>\n",
       "      <th>109</th>\n",
       "      <td>0.016536</td>\n",
       "      <td>adieu</td>\n",
       "    </tr>\n",
       "    <tr>\n",
       "      <th>634</th>\n",
       "      <td>0.011074</td>\n",
       "      <td>audio</td>\n",
       "    </tr>\n",
       "    <tr>\n",
       "      <th>2363</th>\n",
       "      <td>0.007265</td>\n",
       "      <td>crane</td>\n",
       "    </tr>\n",
       "    <tr>\n",
       "      <th>10646</th>\n",
       "      <td>0.006171</td>\n",
       "      <td>stare</td>\n",
       "    </tr>\n",
       "    <tr>\n",
       "      <th>5402</th>\n",
       "      <td>0.005914</td>\n",
       "      <td>irate</td>\n",
       "    </tr>\n",
       "  </tbody>\n",
       "</table>\n",
       "</div>"
      ],
      "text/plain": [
       "           coef variable\n",
       "109    0.016536    adieu\n",
       "634    0.011074    audio\n",
       "2363   0.007265    crane\n",
       "10646  0.006171    stare\n",
       "5402   0.005914    irate"
      ]
     },
     "execution_count": 35,
     "metadata": {},
     "output_type": "execute_result"
    }
   ],
   "source": [
    "pd.DataFrame(list(zip(r.coef_, r.feature_names_in_)),\n",
    "         columns=['coef', 'variable']).sort_values('coef',ascending=False).head(5)"
   ]
  },
  {
   "cell_type": "markdown",
   "id": "7156f510",
   "metadata": {},
   "source": [
    "CRANE is #3. What about before wordle 233?"
   ]
  },
  {
   "cell_type": "code",
   "execution_count": 36,
   "id": "2943deea",
   "metadata": {
    "ExecuteTime": {
     "end_time": "2022-03-22T00:24:19.903545Z",
     "start_time": "2022-03-22T00:24:17.937511Z"
    }
   },
   "outputs": [
    {
     "data": {
      "text/plain": [
       "Ridge(alpha=10)"
      ]
     },
     "execution_count": 36,
     "metadata": {},
     "output_type": "execute_result"
    },
    {
     "data": {
      "text/html": [
       "<div>\n",
       "<style scoped>\n",
       "    .dataframe tbody tr th:only-of-type {\n",
       "        vertical-align: middle;\n",
       "    }\n",
       "\n",
       "    .dataframe tbody tr th {\n",
       "        vertical-align: top;\n",
       "    }\n",
       "\n",
       "    .dataframe thead th {\n",
       "        text-align: right;\n",
       "    }\n",
       "</style>\n",
       "<table border=\"1\" class=\"dataframe\">\n",
       "  <thead>\n",
       "    <tr style=\"text-align: right;\">\n",
       "      <th></th>\n",
       "      <th>coef</th>\n",
       "      <th>variable</th>\n",
       "      <th>guess_rank</th>\n",
       "    </tr>\n",
       "  </thead>\n",
       "  <tbody>\n",
       "    <tr>\n",
       "      <th>2363</th>\n",
       "      <td>0.00036</td>\n",
       "      <td>crane</td>\n",
       "      <td>1018.0</td>\n",
       "    </tr>\n",
       "  </tbody>\n",
       "</table>\n",
       "</div>"
      ],
      "text/plain": [
       "         coef variable  guess_rank\n",
       "2363  0.00036    crane      1018.0"
      ]
     },
     "execution_count": 36,
     "metadata": {},
     "output_type": "execute_result"
    }
   ],
   "source": [
    "data_past = one_hot_encoded_data.query('wordle_num <= 232')\n",
    "X= data_past.drop(\n",
    "        columns=[ 'score_count_fraction', 'wordle_num']) # fit to the one hot encouded guesses and the total guess count\n",
    "y=data_past['score_count_fraction'] # our dependent is the fraction of guesses that had the score pattern\n",
    "\n",
    "r = linear_model.Ridge(alpha=10)\n",
    "r.fit(X,y)\n",
    "\n",
    "\n",
    "\n",
    "\n",
    "out = pd.DataFrame(list(zip(r.coef_, r.feature_names_in_)),\n",
    "         columns=['coef', 'variable']).sort_values('coef',ascending=False)\n",
    "out['guess_rank'] = out['coef'].rank(ascending=False)\n",
    "out.query('variable == \"crane\"')"
   ]
  },
  {
   "cell_type": "markdown",
   "id": "96e90e53",
   "metadata": {},
   "source": [
    "Prior to Wordle 233, CRANE ranked 1018! Quite the turnaround. (Alpha values may not be optimal for these smaller sample sizes) You can see this even in the cruder analysis, where the ranks for CRANE were much lower in the past."
   ]
  },
  {
   "cell_type": "code",
   "execution_count": 37,
   "id": "938148e0",
   "metadata": {
    "ExecuteTime": {
     "end_time": "2022-03-22T00:24:21.075244Z",
     "start_time": "2022-03-22T00:24:19.904417Z"
    }
   },
   "outputs": [
    {
     "data": {
      "image/png": "[encoded data removed]"
     },
     "metadata": {},
     "output_type": "display_data"
    }
   ],
   "source": [
    "\n",
    "\n",
    "guess = 'crane'\n",
    "myplot = df.query(f'guess == @guess').sort_values(\n",
    "    'wordle_num').plot.scatter(\n",
    "        x='wordle_num',\n",
    "        y='score_frequency_rank',\n",
    "        color='guess_count',\n",
    "        title=f'{guess.upper()} popularity',backend='plotly',\n",
    "        color_continuous_scale='bluered',\n",
    "    )\n",
    "myplot.update_yaxes(autorange=\"reversed\")"
   ]
  },
  {
   "cell_type": "code",
   "execution_count": null,
   "id": "3ca27b2a",
   "metadata": {},
   "outputs": [],
   "source": []
  }
 ],
 "metadata": {
  "kernelspec": {
   "display_name": "Python 3 (ipykernel)",
   "language": "python",
   "name": "python3"
  },
  "language_info": {
   "codemirror_mode": {
    "name": "ipython",
    "version": 3
   },
   "file_extension": ".py",
   "mimetype": "text/x-python",
   "name": "python",
   "nbconvert_exporter": "python",
   "pygments_lexer": "ipython3",
   "version": "3.9.6"
  },
  "toc": {
   "base_numbering": 1,
   "nav_menu": {},
   "number_sections": true,
   "sideBar": true,
   "skip_h1_title": false,
   "title_cell": "Table of Contents",
   "title_sidebar": "Contents",
   "toc_cell": false,
   "toc_position": {
    "height": "calc(100% - 180px)",
    "left": "10px",
    "top": "150px",
    "width": "338.796875px"
   },
   "toc_section_display": true,
   "toc_window_display": true
  }
 },
 "nbformat": 4,
 "nbformat_minor": 5
}
