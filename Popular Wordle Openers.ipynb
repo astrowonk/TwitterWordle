{
 "cells": [
  {
   "cell_type": "markdown",
   "id": "b33f69da",
   "metadata": {},
   "source": [
    "## Wordle Opener Analysis from Tweets\n",
    "\n",
    "Wordle tweet data is a useful data source and can, for example, [accurately predict](https://twitter.com/thewordlebot/status/1498661373626265600) the wordle solution for the day. \n",
    "\n",
    "\n"
   ]
  },
  {
   "cell_type": "markdown",
   "id": "fdf684d3",
   "metadata": {},
   "source": [
    "\n",
    "Analyzing the popularity of wordle openers is a little harder, since on any given day all we know are the most popular opening patterns.) I used a Ridge linear regression to look for popular openers across multiple wordles.\n",
    "\n",
    "TDLR; the most common openers are below, though bear in mind even `adieu` is estimated to be only 1.2-5% of all openers. \n",
    "\n",
    "1. adieu\n",
    "2. audio\n",
    "3. stare\n",
    "4. crane\n",
    "5. irate\n",
    "6. arise\n",
    "7. addio [^1]\n",
    "8. heart\n",
    "9. great\n",
    "10. arose\n",
    "11. train\n",
    "12. crate\n",
    "13. raise\n",
    "14. tears\n",
    "15. roate\n",
    "\n",
    "[^1]: A false positive due to similarity with audio.\n",
    "\n"
   ]
  },
  {
   "cell_type": "markdown",
   "id": "eef90487",
   "metadata": {},
   "source": [
    "\n",
    "\n",
    "### Load and prep the data\n",
    "Most of the functionality used is in the files `first_word.py`. The function `make_first_guess_list` creates a useful dataframe for analysis.\n",
    "\n",
    "I start with the excellent kaggle data set [wordle-tweets](https://www.kaggle.com/benhamner/wordle-tweets) and extract directly from the zipfile which I download with the [kaggle api](https://github.com/Kaggle/kaggle-api). The `get_first_words` function processes the dataframe:\n",
    "\n",
    "    1. It removes tweeted scores that contain an invalid score line for that answer (likely played on a cached version of the puzzle, not the live one on the NY Times site).\n",
    "    2. It removes any tweets that have more than 6 score patterns.\n",
    "    3. It extracts the first pattern from the tweeted scores.\n",
    "    4. It maps on the answer for a given wordle id.\n",
    "    5. It groups by the answer for the day, and creates a dataframe that has score, target, guess, and some data on how popular that score is."
   ]
  },
  {
   "cell_type": "code",
   "execution_count": null,
   "id": "26b3af68",
   "metadata": {
    "ExecuteTime": {
     "end_time": "2022-03-22T00:40:22.941562Z",
     "start_time": "2022-03-22T00:40:12.917777Z"
    }
   },
   "outputs": [],
   "source": [
    "from first_word import make_first_guest_list\n",
    "df = make_first_guest_list()"
   ]
  },
  {
   "cell_type": "code",
   "execution_count": null,
   "id": "2147399f",
   "metadata": {
    "ExecuteTime": {
     "end_time": "2022-03-22T00:23:32.550718Z",
     "start_time": "2022-03-22T00:23:32.530900Z"
    }
   },
   "outputs": [],
   "source": [
    "df\n",
    "import plotly.io as pio\n",
    "pio.renderers.default = \"png\""
   ]
  },
  {
   "cell_type": "markdown",
   "id": "196a6257",
   "metadata": {},
   "source": [
    "### Simple analysis\n",
    "\n",
    "We have a large dataframe of almost 600,000 columns. One row for every pattern and every guess for every wordle answer. A simple way to look at common starter words would be to group by the guess and look which words consistently rank high across several days."
   ]
  },
  {
   "cell_type": "code",
   "execution_count": null,
   "id": "b033a4da",
   "metadata": {
    "ExecuteTime": {
     "end_time": "2022-03-22T00:23:32.596409Z",
     "start_time": "2022-03-22T00:23:32.552125Z"
    }
   },
   "outputs": [],
   "source": [
    "df.groupby('guess')['score_frequency_rank'].mean().sort_values().head(10)"
   ]
  },
  {
   "cell_type": "markdown",
   "id": "d0c269e5",
   "metadata": {},
   "source": [
    "This analysis leaves a lot to be desired. While other evidence indicates `adieu` is a popular opener, it does not seem like `jazzy` would be one. Or for that matter, words with a `z`. \n",
    "\n",
    "The `00000` all grey pattern is fairly common, so words with uncommon letters will show up a lot since `00000` is common because of the sheer volume of words that can create the pattern. So what happens if we  filter out the null score? Not much..."
   ]
  },
  {
   "cell_type": "code",
   "execution_count": null,
   "id": "5b973b6b",
   "metadata": {
    "ExecuteTime": {
     "end_time": "2022-03-22T00:23:32.705694Z",
     "start_time": "2022-03-22T00:23:32.597191Z"
    }
   },
   "outputs": [],
   "source": [
    "df.query(\"score != '00000'\").groupby('guess')['score_frequency_rank'].mean().sort_values().head(10)"
   ]
  },
  {
   "cell_type": "markdown",
   "id": "fad6413a",
   "metadata": {},
   "source": [
    "So are people guessing `braze` first regularly or is something else going on? BRAZE's score line is common but what other words could make the same patern?"
   ]
  },
  {
   "cell_type": "code",
   "execution_count": null,
   "id": "d34d20de",
   "metadata": {
    "ExecuteTime": {
     "end_time": "2022-03-22T00:23:32.744479Z",
     "start_time": "2022-03-22T00:23:32.706620Z"
    }
   },
   "outputs": [],
   "source": [
    "df.query('score == \"00101\" and wordle_num == 230').sort_values('commonality',ascending=False).head(10)"
   ]
  },
  {
   "cell_type": "markdown",
   "id": "31c06d7d",
   "metadata": {},
   "source": [
    "There are a lot of words that make the same pattern, is `BRAZE` popular or is it riding the coattails of some other `_RA_E` word?"
   ]
  },
  {
   "cell_type": "markdown",
   "id": "0fa42b53",
   "metadata": {},
   "source": [
    "### Linear Regression\n",
    "\n",
    "A better approach is to control for the presence of other words. If BRAZE only does well when it's paired with GRACE or GRADE or SHARE than a linear regression should isolate the guesses that actually are predictive of a popular score count line. But, there will be a lot of colinearity so we will use a Ridge regression.\n",
    "\n",
    "The difficulty comes from getting the dataframe into the right format, thankfully I discovered [pd.crosstab](https://pandas.pydata.org/docs/reference/api/pandas.crosstab.html), and there are [other methods that were all better](https://stackoverflow.com/questions/46791626/one-hot-encoding-multi-level-column-data) than what I had been doing originally (an awful groupby loop than took over a minute.)"
   ]
  },
  {
   "cell_type": "code",
   "execution_count": null,
   "id": "539c0da3",
   "metadata": {
    "ExecuteTime": {
     "end_time": "2022-03-22T00:31:20.165962Z",
     "start_time": "2022-03-22T00:31:09.875687Z"
    }
   },
   "outputs": [],
   "source": [
    "df.rename(columns={'score': 'score_pattern'}, inplace=True)\n",
    "\n",
    "one_hot_encoded_data = pd.crosstab(\n",
    "    [df['wordle_num'], df['score_pattern']], df['guess']).join(\n",
    "        df.groupby(['wordle_num',\n",
    "                    'score_pattern'])[['score_count_fraction',\n",
    "                                       'guess_count']].first()).reset_index()\n"
   ]
  },
  {
   "cell_type": "markdown",
   "id": "7b1ca61a",
   "metadata": {},
   "source": [
    "Now we'll sort of normalize the data a little and then fit a model. I will use a [Ridge](https://scikit-learn.org/stable/modules/linear_model.html#ridge-regression-and-classification) which helps control the size of the coefficients, and is neccessary to handle the colinearity of the variables."
   ]
  },
  {
   "cell_type": "code",
   "execution_count": null,
   "id": "84e6b296",
   "metadata": {
    "ExecuteTime": {
     "end_time": "2022-03-22T00:31:20.699551Z",
     "start_time": "2022-03-22T00:31:20.167134Z"
    }
   },
   "outputs": [],
   "source": [
    "one_hot_encoded_data.dropna(subset=['score_count_fraction'],inplace=True) #don't need patterns no one actually guessed\n",
    "# actually not sure if fillna 0 would be better?\n",
    "std = one_hot_encoded_data['score_count_fraction'].std()\n",
    "# mean = one_hot_encoded_data['score_count_fraction'].mean()\n",
    "# one_hot_encoded_data['score_count_fraction'] = (one_hot_encoded_data[\n",
    "#     'score_count_fraction'] - mean) / std\n",
    "\n",
    "guess_count_std = one_hot_encoded_data[\n",
    "    'guess_count'].std()\n",
    "guess_count_mean = one_hot_encoded_data['guess_count'].mean()\n",
    "\n",
    "one_hot_encoded_data['guess_count'] = (one_hot_encoded_data[\n",
    "    'guess_count'] - guess_count_mean ) / guess_count_std"
   ]
  },
  {
   "cell_type": "code",
   "execution_count": null,
   "id": "5acb1200",
   "metadata": {
    "ExecuteTime": {
     "end_time": "2022-03-22T00:31:20.719501Z",
     "start_time": "2022-03-22T00:31:20.700308Z"
    }
   },
   "outputs": [],
   "source": [
    "one_hot_encoded_data['score_count_fraction']"
   ]
  },
  {
   "cell_type": "code",
   "execution_count": null,
   "id": "643f3fb8",
   "metadata": {
    "ExecuteTime": {
     "end_time": "2022-03-22T00:31:52.847885Z",
     "start_time": "2022-03-22T00:31:23.802087Z"
    }
   },
   "outputs": [],
   "source": [
    "from sklearn import linear_model\n",
    "data = one_hot_encoded_data.query(\"wordle_num != 258\") #explained further down, this data point has particularly bad colinearity issues\n",
    "X= data.drop(\n",
    "        columns=[ 'score_count_fraction', 'wordle_num','score_pattern']) # fit to the one hot encouded guesses and the total guess count\n",
    "y=data['score_count_fraction'] # our dependent is the fraction of guesses that had the score pattern\n",
    "\n",
    "r = linear_model.RidgeCV(alphas=[10,25,35,50])\n",
    "r.fit(X,y)\n",
    "\n"
   ]
  },
  {
   "cell_type": "markdown",
   "id": "4c38a873",
   "metadata": {},
   "source": [
    "#### Results!\n",
    "\n",
    "Now we can just look at the coefficients of the variables to see which ones most strongly predict a popular pattern. The top few guesses contain [some](https://yougov.co.uk/topics/entertainment/articles-reports/2022/02/03/wordle-starter-words-hard-mode-and-x6-how-are-brit) [familiar](https://today.yougov.com/topics/lifestyle/articles-reports/2022/02/18/wordle-willingness-to-pay-poll) choices. \n",
    "\n",
    "Though to repeat, `addio` is almost certainly not real but riding the coattails of `audio`.\n",
    "\n"
   ]
  },
  {
   "cell_type": "code",
   "execution_count": null,
   "id": "3e027634",
   "metadata": {
    "ExecuteTime": {
     "end_time": "2022-03-22T00:31:52.872010Z",
     "start_time": "2022-03-22T00:31:52.849440Z"
    }
   },
   "outputs": [],
   "source": [
    "r.alpha_"
   ]
  },
  {
   "cell_type": "code",
   "execution_count": null,
   "id": "c98a9b58",
   "metadata": {
    "ExecuteTime": {
     "end_time": "2022-03-22T00:31:52.904358Z",
     "start_time": "2022-03-22T00:31:52.873342Z"
    }
   },
   "outputs": [],
   "source": [
    "top_openers = pd.DataFrame(list(zip(r.coef_, r.feature_names_in_)),\n",
    "         columns=['coef', 'variable']).sort_values('coef',ascending=False)\n",
    "top_openers.head(15)"
   ]
  },
  {
   "cell_type": "markdown",
   "id": "8bb21073",
   "metadata": {},
   "source": [
    "Wordle 258 (solution `ahead`) is creating an issue with `adieu` - only 4 other words create the same pattern and they are riding the coattails of adieu and creeping into the top lists. The guess count is only 5, so this looks like a strong signal but it's driven by adieu, rather than the popularity of `advew`. I decided the simplest thing is to remove the 258 data point. Otherwise, all 4 of the other words show up in the top 15.\n",
    "\n",
    "\n"
   ]
  },
  {
   "cell_type": "code",
   "execution_count": null,
   "id": "815da09b",
   "metadata": {
    "ExecuteTime": {
     "end_time": "2022-03-22T00:31:52.962525Z",
     "start_time": "2022-03-22T00:31:52.907154Z"
    }
   },
   "outputs": [],
   "source": [
    "df.query('wordle_num == 258 and score_pattern == \"21010\"')"
   ]
  },
  {
   "cell_type": "code",
   "execution_count": null,
   "id": "8330152c",
   "metadata": {
    "ExecuteTime": {
     "end_time": "2022-03-22T00:31:52.986518Z",
     "start_time": "2022-03-22T00:31:52.963662Z"
    }
   },
   "outputs": [],
   "source": [
    "for i, var in enumerate(top_openers.query('variable != \"guess_count\"')['variable'].head(15)):\n",
    "    print(f\"{i+1}. {var}\")"
   ]
  },
  {
   "cell_type": "markdown",
   "id": "f177eb18",
   "metadata": {},
   "source": [
    "#### Just how popular is _adieu_?\n",
    "\n",
    "Ok, so _adieu_ is popular but exactly how many people are actually using it every day? To answer this, I looked at what fraction of all tweeted score patterns are consistent with `adieu` and plot that against how many other words could have also made that pattern."
   ]
  },
  {
   "cell_type": "code",
   "execution_count": null,
   "id": "856d6399",
   "metadata": {
    "ExecuteTime": {
     "end_time": "2022-03-22T00:31:53.073717Z",
     "start_time": "2022-03-22T00:31:52.987612Z"
    }
   },
   "outputs": [],
   "source": [
    "guess = 'adieu'\n",
    "df.query(f'guess == @guess and guess_count < 400').sort_values(\n",
    "    'wordle_num').plot.scatter(\n",
    "        x='guess_count',\n",
    "        y='score_count_fraction',\n",
    "    hover_data=['score_pattern','wordle_num'],\n",
    "       # color='guess_count',\n",
    "        title=f'{guess.upper()} popularity',backend='plotly',\n",
    "       # color_continuous_scale='bluered',\n",
    "    )"
   ]
  },
  {
   "cell_type": "markdown",
   "id": "7cc1bbc0",
   "metadata": {},
   "source": [
    "So in the real data, the minimum fraction that was `adieu` was about 4%.\n",
    "\n",
    "One could try and extrapolate the points and fit a line to this to see what it would like at a guess_count of 1 from the above data, but of course, we already fit a model to the data. The fitted Ridge model can predict what `adieu` (and all the other top choices) would do with a guess count of 1 and where `adieu` was the only word that could make it:"
   ]
  },
  {
   "cell_type": "code",
   "execution_count": null,
   "id": "d8b8fd0a",
   "metadata": {
    "ExecuteTime": {
     "end_time": "2022-03-22T00:34:17.784094Z",
     "start_time": "2022-03-22T00:34:17.598009Z"
    }
   },
   "outputs": [],
   "source": [
    "\n",
    "series_list = []\n",
    "for word in top_openers['variable'].head(15):\n",
    "    predict_dict = {word:1,'guess_count':(1 - guess_count_mean) / guess_count_std}\n",
    "    series_list.append(pd.Series({x:predict_dict.get(x,int(0)) for x in X.columns}))\n",
    "\n",
    "\n",
    "predict_on_this = pd.DataFrame(series_list)\n",
    "\n",
    "top_15 = top_openers.head(15).reset_index(drop=True)\n",
    "top_15.loc[:,'estimated_fraction'] = r.predict(predict_on_this)\n",
    "top_15"
   ]
  },
  {
   "cell_type": "markdown",
   "id": "81947b5b",
   "metadata": {},
   "source": [
    "This indicates that `adieu` only represents 1.85% of all starters. The infamous wordle 258 implies it's more like 6%, but we've seen it less than 6% even with more possible words. It could be that wordle 258 was something of an outlier. "
   ]
  },
  {
   "cell_type": "markdown",
   "id": "6ed77dc9",
   "metadata": {},
   "source": [
    "### CRANE\n",
    "\n",
    "On February 6, 3Blue1Brown released a video positing that [CRANE was the best opener](https://www.youtube.com/watch?v=v68zYyaEmEA). Though this was later [recanted](https://www.youtube.com/watch?v=fRed0Xmc2Wg), it generated plenty of [media](https://kotaku.com/wordle-starting-word-math-science-bot-algorithm-crane-p-1848496404) [coverage](https://www.forbes.com/sites/paultassi/2022/02/08/the-best-wordle-starter-word-a-first-guess-through-science/?sh=94c150a27909). CRANE was #3 on my list overall, how does it look before and after the video?"
   ]
  },
  {
   "cell_type": "code",
   "execution_count": null,
   "id": "826b6c74",
   "metadata": {
    "ExecuteTime": {
     "end_time": "2022-03-22T00:24:17.910103Z",
     "start_time": "2022-03-22T00:24:13.088091Z"
    }
   },
   "outputs": [],
   "source": [
    "data_recent = one_hot_encoded_data.query('wordle_num > 232')\n",
    "X= data_recent.drop(\n",
    "        columns=[ 'score_count_fraction', 'wordle_num']) # fit to the one hot encouded guesses and the total guess count\n",
    "y=data_recent['score_count_fraction'] # our dependent is the fraction of guesses that had the score pattern\n",
    "\n",
    "r = linear_model.Ridge(alpha=10)\n",
    "r.fit(X,y)\n",
    "\n"
   ]
  },
  {
   "cell_type": "code",
   "execution_count": null,
   "id": "82534db6",
   "metadata": {
    "ExecuteTime": {
     "end_time": "2022-03-22T00:24:17.936339Z",
     "start_time": "2022-03-22T00:24:17.911031Z"
    }
   },
   "outputs": [],
   "source": [
    "pd.DataFrame(list(zip(r.coef_, r.feature_names_in_)),\n",
    "         columns=['coef', 'variable']).sort_values('coef',ascending=False).head(5)"
   ]
  },
  {
   "cell_type": "markdown",
   "id": "7156f510",
   "metadata": {},
   "source": [
    "CRANE is #3. What about before wordle 233?"
   ]
  },
  {
   "cell_type": "code",
   "execution_count": null,
   "id": "2943deea",
   "metadata": {
    "ExecuteTime": {
     "end_time": "2022-03-22T00:24:19.903545Z",
     "start_time": "2022-03-22T00:24:17.937511Z"
    }
   },
   "outputs": [],
   "source": [
    "data_past = one_hot_encoded_data.query('wordle_num <= 232')\n",
    "X= data_past.drop(\n",
    "        columns=[ 'score_count_fraction', 'wordle_num']) # fit to the one hot encouded guesses and the total guess count\n",
    "y=data_past['score_count_fraction'] # our dependent is the fraction of guesses that had the score pattern\n",
    "\n",
    "r = linear_model.Ridge(alpha=10)\n",
    "r.fit(X,y)\n",
    "\n",
    "\n",
    "\n",
    "\n",
    "out = pd.DataFrame(list(zip(r.coef_, r.feature_names_in_)),\n",
    "         columns=['coef', 'variable']).sort_values('coef',ascending=False)\n",
    "out['guess_rank'] = out['coef'].rank(ascending=False)\n",
    "out.query('variable == \"crane\"')"
   ]
  },
  {
   "cell_type": "markdown",
   "id": "96e90e53",
   "metadata": {},
   "source": [
    "Prior to Wordle 233, CRANE ranked 1018! Quite the turnaround. (Alpha values may not be optimal for these smaller sample sizes) You can see this even in the cruder analysis, where the ranks for CRANE were much lower in the past."
   ]
  },
  {
   "cell_type": "code",
   "execution_count": null,
   "id": "938148e0",
   "metadata": {
    "ExecuteTime": {
     "end_time": "2022-03-22T00:24:21.075244Z",
     "start_time": "2022-03-22T00:24:19.904417Z"
    }
   },
   "outputs": [],
   "source": [
    "\n",
    "\n",
    "guess = 'crane'\n",
    "myplot = df.query(f'guess == @guess').sort_values(\n",
    "    'wordle_num').plot.scatter(\n",
    "        x='wordle_num',\n",
    "        y='score_frequency_rank',\n",
    "        color='guess_count',\n",
    "        title=f'{guess.upper()} popularity',backend='plotly',\n",
    "        color_continuous_scale='bluered',\n",
    "    )\n",
    "myplot.update_yaxes(autorange=\"reversed\")"
   ]
  },
  {
   "cell_type": "code",
   "execution_count": null,
   "id": "3ca27b2a",
   "metadata": {},
   "outputs": [],
   "source": []
  }
 ],
 "metadata": {
  "kernelspec": {
   "display_name": "Python 3 (ipykernel)",
   "language": "python",
   "name": "python3"
  },
  "language_info": {
   "codemirror_mode": {
    "name": "ipython",
    "version": 3
   },
   "file_extension": ".py",
   "mimetype": "text/x-python",
   "name": "python",
   "nbconvert_exporter": "python",
   "pygments_lexer": "ipython3",
   "version": "3.9.6"
  },
  "toc": {
   "base_numbering": 1,
   "nav_menu": {},
   "number_sections": true,
   "sideBar": true,
   "skip_h1_title": false,
   "title_cell": "Table of Contents",
   "title_sidebar": "Contents",
   "toc_cell": false,
   "toc_position": {
    "height": "calc(100% - 180px)",
    "left": "10px",
    "top": "150px",
    "width": "338.796875px"
   },
   "toc_section_display": true,
   "toc_window_display": true
  }
 },
 "nbformat": 4,
 "nbformat_minor": 5
}
