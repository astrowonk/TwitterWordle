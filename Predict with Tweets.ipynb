{
 "cells": [
  {
   "cell_type": "markdown",
   "id": "0dab174e",
   "metadata": {
    "ExecuteTime": {
     "end_time": "2022-02-02T03:22:42.835932Z",
     "start_time": "2022-02-02T03:22:42.610954Z"
    }
   },
   "source": [
    "## Wordle From Tweeted Scores"
   ]
  },
  {
   "cell_type": "markdown",
   "id": "4470d46c",
   "metadata": {},
   "source": [
    "Inspired by [Ben Hamner's Kaggle](https://www.kaggle.com/benhamner/wordle-1-6/) and borrowing some methodology, one can predict the wordle of the day from publicly shared scores/guesses.\n",
    "\n",
    "Differences from the kaggle notebook:\n",
    "\n",
    "Major differences from above Kaggle notebook:\n",
    "\n",
    "* **No simulations of hypothetical games.** I do use a similar word commonality lookup dictionary, and the same [word frequency data](https://www.kaggle.com/rtatman/english-word-frequency).\n",
    "* **No cosine similarity or comparison of specific (e.g. penultimate) guess.** Only the list, and to some extent count, of all tweeted wordle score lines is needed.\n",
    "* **Slightly different filtering of bad tweets** Upon further reflection, the code now rejects obviously bad tweets. The kaggle data set does some [light filtering](https://www.kaggle.com/benhamner/pull-wordle-tweets). In general, using a minimum count threshold mostly eliminates a few fake or spurious scores that were posted, and the penalty term is small enough that even if the data set has a bunch of retweets of a [tetris pattern](https://twitter.com/TomWritesBlog/status/1489676441562361858), the algorithm still converged accurately. However, non-English wordles or people tweeting out multiple variants at once are both easy to detect so I'm [now removing these](https://github.com/astrowonk/TwitterWordle/commit/98ee732bf50d896e007c01520a95e90dc4edd4a7).\n",
    "* **100% Accuracy** This algorithm has 100% accuracy from Wordles 210-233 (the original project initially failed on 223, it was successful on later [reruns after some fixes](https://twitter.com/benhamner/status/1489364155370926080). It also failed on 231,236,and 249.) With the restricted target list, `TwitterWordle` is 100% accurate (so far).\n",
    "  * _Note: Starting on Feb 15, the NY Times removed a few target words from the official wordle list, such as 'papal' and 'agora.' Some people continue to tweet results from the unaltered list, presumably cached/saved versions. So, on Wordle 247, using the full 12,000+ dictionary, `TwitterWordle` did fail to solve correctly. However, the default mode is using the smaller target dictionary._\n",
    "* **By default, the code only considers the known 2315 possible wordles.** The Kaggle project doesn't give the wordle list special treatment, and runs simulations considering all 12K words as possible answers. While my [wordlebot](https://github.com/astrowonk/wordle) has rolled its own dictionary, I used the actual wordle list here. \n",
    "  * Use the keyword argument `use_limited_targets = False` to load precomputed dictionaries across the full 12972 word list, and the `Create Lookup dictionary` notebook can generate this larger set of dictionaries.\n",
    "  * The code still solves with (almost, see above) 100% accuracy using all 12K+ words, I solve the dataframe using the full list in this notebook at the end.\n",
    "  * As of Feb 15, 2021 I now use a revised dictionary after [changes made by the New York Times](https://arstechnica.com/gaming/2022/02/heres-how-the-new-york-times-changed-wordle/).\n",
    "\n",
    "\n",
    "This notebook uses the precomputed dictionaries inside the `TwitterWordle` class to solve a game from tweets. The other notebook generates the dictionaries.\n",
    "\n"
   ]
  },
  {
   "cell_type": "markdown",
   "id": "2801fb3d",
   "metadata": {
    "ExecuteTime": {
     "end_time": "2022-02-02T03:44:11.042723Z",
     "start_time": "2022-02-02T03:44:10.970339Z"
    }
   },
   "source": [
    "### Basic Solving Methodology\n",
    "\n",
    "Each target word has a dictionary that maps a wordle line score `10102` (I map 🟩 to 2, 🟨 to 1, and ⬛ and ⬜ to 0.) to how likely that guess is for the target word. To solve:\n",
    "\n",
    "1. Count and collect the line scores in public tweets. The order doesn't matter.\n",
    "2. Using some minimum threshold for using the line score, go through every tweeted line score, and sum the average likelihood score for each unique tweeted score line.\n",
    "3. Subtract a penalty term if the result is impossible for all 12,000 guessable words. For example, only one word ends in 'uery' : query. It is impossible to guess and get `02222` as a result. There for if `02222` occurred in a tweet, the code would subtract a penalty term for `query` as a possible solution.\n",
    "4. The target word with the maximum summed lookup frequency is the wordle.\n",
    "\n",
    "\n",
    "Not every penalty term and minimum count is optimal for every wordle. By default the algorithm uses every tweet available (~2000+), requires at least 5 occurences of the line score, and uses -5E7 (around 1 standard deviation of all frequency scores) as penalty. (That makes it sound like I derived the penalty term in some rigorous way. In fact I just tried a bunch of them, -5E7 worked fairly well, then realized for different wordles, the code should iterate on different values until it finds a strong signal.)\n",
    "\n",
    "If the top answer is less than 10% higher than the runner up, the code iterates through min counts and penalty terms until it finds a prediction that is, or returns the best one."
   ]
  },
  {
   "cell_type": "code",
   "execution_count": 15,
   "id": "2ea31f8f",
   "metadata": {
    "ExecuteTime": {
     "end_time": "2022-02-03T12:07:41.161851Z",
     "start_time": "2022-02-03T12:07:41.061334Z"
    }
   },
   "outputs": [],
   "source": [
    "\n",
    "import plotly.io as pio;# plots should work with matplotlib backend too but ... plotly is better!\n",
    "pio.renderers.default = \"png\" #here only for github, for plotly\n",
    "from TwitterWordle import TwitterWordle\n",
    "import pandas as pd\n"
   ]
  },
  {
   "cell_type": "markdown",
   "id": "c401dc13",
   "metadata": {},
   "source": [
    "### Load in data\n",
    "\n",
    "`tweets.csv` from the [kaggle project](https://www.kaggle.com/benhamner/wordle-tweets). Storing tweets is [complicated](https://developer.twitter.com/en/developer-terms/agreement-and-policy), so I'm not hosting any tweets in this repository, you should download from there. The dataset filters out some spurious tweets, but I have tested this code on unfiltered tweets collected with [searchtweets](https://pypi.org/project/searchtweets-v2/) which you can see in the subsequent section.\n",
    "\n",
    "You will need to download from there, as there are various rule on storing tweets (i.e. one must delete them if the account goes private), which requires some automation."
   ]
  },
  {
   "cell_type": "code",
   "execution_count": 16,
   "id": "20a92572",
   "metadata": {
    "ExecuteTime": {
     "end_time": "2022-02-03T12:07:44.234396Z",
     "start_time": "2022-02-03T12:07:43.985276Z"
    }
   },
   "outputs": [
    {
     "name": "stdout",
     "output_type": "stream",
     "text": [
      "Loaded 2309 pre-computed lookup dictionaries.\n"
     ]
    },
    {
     "name": "stderr",
     "output_type": "stream",
     "text": [
      "/Users/marcosh/Development/active_projects/TwitterWordle/TwitterWordle.py:48: SettingWithCopyWarning:\n",
      "\n",
      "\n",
      "A value is trying to be set on a copy of a slice from a DataFrame.\n",
      "Try using .loc[row_indexer,col_indexer] = value instead\n",
      "\n",
      "See the caveats in the documentation: https://pandas.pydata.org/pandas-docs/stable/user_guide/indexing.html#returning-a-view-versus-a-copy\n",
      "\n"
     ]
    }
   ],
   "source": [
    "\n",
    "#load in the tweet data from kaggle.\n",
    "df = pd.read_csv(\"tweets.csv\")\n",
    "t = TwitterWordle(df)\n"
   ]
  },
  {
   "cell_type": "markdown",
   "id": "34e0bc0a",
   "metadata": {},
   "source": [
    "### Solve a Wordle, see a bar graph.\n",
    "\n",
    "The list of dictionaries is all that is needed to solve from a large number of tweeted results. Below is solving wordle 223, grabbing the tweets from the dataframe `df`. The default parameters are sufficient for most wordles with large N for tweets. The database includes about 2000 or so per tweet.\n",
    "\n",
    "For wordle 223 below, the default parameters find a very strong signal, so the code does not iterate through other penalty terms and minimum counts."
   ]
  },
  {
   "cell_type": "code",
   "execution_count": 17,
   "id": "d7b99682",
   "metadata": {
    "ExecuteTime": {
     "end_time": "2022-02-03T12:07:47.749867Z",
     "start_time": "2022-02-03T12:07:46.621859Z"
    }
   },
   "outputs": [
    {
     "name": "stdout",
     "output_type": "stream",
     "text": [
      "TwitterWordle analyzed 15094 tweets for Wordle 223.\n",
      "\n",
      "50756 score patterns. 143 unique.\n",
      "\n",
      "95.30%, (142/149) valid final guess patterns found. Impossible pattern count: 1.\n",
      "\n",
      "Wordle 223 prediction: PERKY.\n",
      "2.5 STD above mean. 1.4 above runner up.\n",
      "\n"
     ]
    },
    {
     "data": {
      "image/png": "[encoded data removed]"
     },
     "metadata": {},
     "output_type": "display_data"
    },
    {
     "data": {
      "text/plain": [
       "'perky'"
      ]
     },
     "execution_count": 17,
     "metadata": {},
     "output_type": "execute_result"
    }
   ],
   "source": [
    "\n",
    "t.solve(223,mask_result=False,plot=True)"
   ]
  },
  {
   "cell_type": "markdown",
   "id": "de72e129",
   "metadata": {},
   "source": [
    "The penalty term is averaged in when a wordle score line is impossible for a given target word. However, too high and spurious/fake tweets will penalize real possible target words.\n",
    "\n",
    "With fewer tweets, the likelihood of bogus tweets is lower, and minimum count can be reduced. Wordle 210 again with a downsampled size and a lower min_count. \n",
    "\n",
    "**100 tweets is enough (for some words)!** I lower the min count when downsampling, and the alg iterates through penalty terms until the signal means the 10% threshold."
   ]
  },
  {
   "cell_type": "code",
   "execution_count": 18,
   "id": "48aa8f9b",
   "metadata": {
    "ExecuteTime": {
     "end_time": "2022-02-03T12:08:01.192283Z",
     "start_time": "2022-02-03T12:08:00.868388Z"
    }
   },
   "outputs": [
    {
     "name": "stdout",
     "output_type": "stream",
     "text": [
      "354 score patterns. 75 unique.\n",
      "\n",
      "Wordle 223 initial signal low 1.01. Iterating for better parameters\n",
      "...............................................\n",
      "Iterated to a better signal with min_count 1 and penalty -3.10E+08\n",
      "50.34%, (75/149) valid final guess patterns found. Impossible pattern count: 0.\n",
      "\n",
      "Wordle 223 prediction: PERKY.\n",
      "2.7 STD above mean. 1.11 above runner up.\n",
      "\n"
     ]
    },
    {
     "data": {
      "image/png": "[encoded data removed]"
     },
     "metadata": {},
     "output_type": "display_data"
    },
    {
     "data": {
      "text/plain": [
       "'perky'"
      ]
     },
     "execution_count": 18,
     "metadata": {},
     "output_type": "execute_result"
    }
   ],
   "source": [
    "#Solve with only 100 tweets\n",
    "t.solve(223,downsample=100,min_count=1,plot=True,mask_result=False)"
   ]
  },
  {
   "cell_type": "markdown",
   "id": "13313d46",
   "metadata": {
    "ExecuteTime": {
     "end_time": "2022-02-01T12:13:42.743548Z",
     "start_time": "2022-02-01T12:13:42.700165Z"
    }
   },
   "source": [
    "### Solve all test wordles in the test dataframe"
   ]
  },
  {
   "cell_type": "code",
   "execution_count": 8,
   "id": "5b35c340",
   "metadata": {
    "ExecuteTime": {
     "end_time": "2022-02-03T12:08:17.112970Z",
     "start_time": "2022-02-03T12:08:15.408269Z"
    }
   },
   "outputs": [
    {
     "name": "stdout",
     "output_type": "stream",
     "text": [
      "TwitterWordle analyzed 2724 tweets for Wordle 210.\n",
      "\n",
      "7677 score patterns. 132 unique.\n",
      "\n",
      "89.58%, (129/144) valid final guess patterns found. Impossible pattern count: 3.\n",
      "\n",
      "Wordle 210 prediction: PANIC.\n",
      "1.8 STD above mean. 1.12 above runner up.\n",
      "\n",
      "TwitterWordle analyzed 2764 tweets for Wordle 211.\n",
      "\n",
      "8014 score patterns. 164 unique.\n",
      "\n",
      "92.49%, (160/173) valid final guess patterns found. Impossible pattern count: 4.\n",
      "\n",
      "Wordle 211 prediction: SOLAR.\n",
      "3.2 STD above mean. 1.27 above runner up.\n",
      "\n",
      "TwitterWordle analyzed 2287 tweets for Wordle 212.\n",
      "\n",
      "6521 score patterns. 159 unique.\n",
      "\n",
      "89.66%, (156/174) valid final guess patterns found. Impossible pattern count: 3.\n",
      "\n",
      "Wordle 212 prediction: SHIRE.\n",
      "3.3 STD above mean. 1.34 above runner up.\n",
      "\n",
      "TwitterWordle analyzed 2018 tweets for Wordle 213.\n",
      "\n",
      "7260 score patterns. 94 unique.\n",
      "\n",
      "Wordle 213 initial signal low 1.06. Iterating for better parameters\n",
      "...............................................\n",
      "Iterated to a better signal with min_count 1 and penalty -1.30E+08\n",
      "80.00%, (88/110) valid final guess patterns found. Impossible pattern count: 6.\n",
      "\n",
      "Wordle 213 prediction: PROXY.\n",
      "1.9 STD above mean. 1.11 above runner up.\n",
      "\n",
      "TwitterWordle analyzed 2585 tweets for Wordle 214.\n",
      "\n",
      "6648 score patterns. 142 unique.\n",
      "\n",
      "86.79%, (138/159) valid final guess patterns found. Impossible pattern count: 4.\n",
      "\n",
      "Wordle 214 prediction: POINT.\n",
      "1.9 STD above mean. 1.24 above runner up.\n",
      "\n",
      "TwitterWordle analyzed 2820 tweets for Wordle 215.\n",
      "\n",
      "8140 score patterns. 126 unique.\n",
      "\n",
      "87.77%, (122/139) valid final guess patterns found. Impossible pattern count: 4.\n",
      "\n",
      "Wordle 215 prediction: ROBOT.\n",
      "2.0 STD above mean. 1.26 above runner up.\n",
      "\n",
      "TwitterWordle analyzed 5878 tweets for Wordle 216.\n",
      "\n",
      "16778 score patterns. 121 unique.\n",
      "\n",
      "Wordle 216 initial signal low 1.1. Iterating for better parameters\n",
      "...............................................\n",
      "Iterated to a better signal with min_count 1 and penalty -7.00E+07\n",
      "91.27%, (115/126) valid final guess patterns found. Impossible pattern count: 6.\n",
      "\n",
      "Wordle 216 prediction: PRICK.\n",
      "2.4 STD above mean. 1.17 above runner up.\n",
      "\n",
      "TwitterWordle analyzed 2834 tweets for Wordle 217.\n",
      "\n",
      "9353 score patterns. 124 unique.\n",
      "\n",
      "89.21%, (124/139) valid final guess patterns found. Impossible pattern count: 0.\n",
      "\n",
      "Wordle 217 prediction: WINCE.\n",
      "1.8 STD above mean. 1.12 above runner up.\n",
      "\n",
      "TwitterWordle analyzed 3357 tweets for Wordle 218.\n",
      "\n",
      "9843 score patterns. 108 unique.\n",
      "\n",
      "85.48%, (106/124) valid final guess patterns found. Impossible pattern count: 2.\n",
      "\n",
      "Wordle 218 prediction: CRIMP.\n",
      "2.0 STD above mean. 1.1 above runner up.\n",
      "\n",
      "TwitterWordle analyzed 2772 tweets for Wordle 219.\n",
      "\n",
      "9967 score patterns. 102 unique.\n",
      "\n",
      "88.50%, (100/113) valid final guess patterns found. Impossible pattern count: 2.\n",
      "\n",
      "Wordle 219 prediction: KNOLL.\n",
      "2.0 STD above mean. 1.16 above runner up.\n",
      "\n",
      "TwitterWordle analyzed 6388 tweets for Wordle 220.\n",
      "\n",
      "19594 score patterns. 163 unique.\n",
      "\n",
      "96.39%, (160/166) valid final guess patterns found. Impossible pattern count: 3.\n",
      "\n",
      "Wordle 220 prediction: SUGAR.\n",
      "3.6 STD above mean. 1.47 above runner up.\n",
      "\n",
      "TwitterWordle analyzed 6361 tweets for Wordle 221.\n",
      "\n",
      "19754 score patterns. 103 unique.\n",
      "\n",
      "85.00%, (102/120) valid final guess patterns found. Impossible pattern count: 1.\n",
      "\n",
      "Wordle 221 prediction: WHACK.\n",
      "2.1 STD above mean. 1.2 above runner up.\n",
      "\n",
      "TwitterWordle analyzed 6459 tweets for Wordle 222.\n",
      "\n",
      "18530 score patterns. 133 unique.\n",
      "\n",
      "87.76%, (129/147) valid final guess patterns found. Impossible pattern count: 4.\n",
      "\n",
      "Wordle 222 prediction: MOUNT.\n",
      "2.1 STD above mean. 1.15 above runner up.\n",
      "\n",
      "TwitterWordle analyzed 15094 tweets for Wordle 223.\n",
      "\n",
      "50756 score patterns. 143 unique.\n",
      "\n",
      "95.30%, (142/149) valid final guess patterns found. Impossible pattern count: 1.\n",
      "\n",
      "Wordle 223 prediction: PERKY.\n",
      "2.5 STD above mean. 1.4 above runner up.\n",
      "\n",
      "TwitterWordle analyzed 6652 tweets for Wordle 224.\n",
      "\n",
      "19326 score patterns. 134 unique.\n",
      "\n",
      "91.67%, (132/144) valid final guess patterns found. Impossible pattern count: 2.\n",
      "\n",
      "Wordle 224 prediction: COULD.\n",
      "1.9 STD above mean. 1.16 above runner up.\n",
      "\n",
      "TwitterWordle analyzed 6629 tweets for Wordle 225.\n",
      "\n",
      "21485 score patterns. 96 unique.\n",
      "\n",
      "Wordle 225 initial signal low 1.04. Iterating for better parameters\n",
      "...............................................\n",
      "Iterated to a better signal with min_count 1 and penalty -7.00E+07\n",
      "89.72%, (96/107) valid final guess patterns found. Impossible pattern count: 0.\n",
      "\n",
      "Wordle 225 prediction: WRUNG.\n",
      "2.0 STD above mean. 1.13 above runner up.\n",
      "\n",
      "TwitterWordle analyzed 5819 tweets for Wordle 226.\n",
      "\n",
      "16750 score patterns. 116 unique.\n",
      "\n",
      "89.52%, (111/124) valid final guess patterns found. Impossible pattern count: 5.\n",
      "\n",
      "Wordle 226 prediction: LIGHT.\n",
      "2.0 STD above mean. 1.15 above runner up.\n",
      "\n",
      "TwitterWordle analyzed 6549 tweets for Wordle 227.\n",
      "\n",
      "17218 score patterns. 155 unique.\n",
      "\n",
      "93.87%, (153/163) valid final guess patterns found. Impossible pattern count: 2.\n",
      "\n",
      "Wordle 227 prediction: THOSE.\n",
      "3.3 STD above mean. 1.22 above runner up.\n",
      "\n",
      "TwitterWordle analyzed 5728 tweets for Wordle 228.\n",
      "\n",
      "15530 score patterns. 153 unique.\n",
      "\n",
      "91.57%, (152/166) valid final guess patterns found. Impossible pattern count: 1.\n",
      "\n",
      "Wordle 228 prediction: MOIST.\n",
      "3.1 STD above mean. 1.46 above runner up.\n",
      "\n",
      "TwitterWordle analyzed 6236 tweets for Wordle 229.\n",
      "\n",
      "19361 score patterns. 140 unique.\n",
      "\n",
      "89.17%, (140/157) valid final guess patterns found. Impossible pattern count: 0.\n",
      "\n",
      "Wordle 229 prediction: SHARD.\n",
      "2.7 STD above mean. 1.17 above runner up.\n",
      "\n",
      "TwitterWordle analyzed 6396 tweets for Wordle 230.\n",
      "\n",
      "18346 score patterns. 173 unique.\n",
      "\n",
      "93.51%, (173/185) valid final guess patterns found. Impossible pattern count: 0.\n",
      "\n",
      "Wordle 230 prediction: PLEAT.\n",
      "3.9 STD above mean. 1.34 above runner up.\n",
      "\n",
      "TwitterWordle analyzed 7521 tweets for Wordle 231.\n",
      "\n",
      "23563 score patterns. 135 unique.\n",
      "\n",
      "93.01%, (133/143) valid final guess patterns found. Impossible pattern count: 2.\n",
      "\n",
      "Wordle 231 prediction: ALOFT.\n",
      "2.2 STD above mean. 1.39 above runner up.\n",
      "\n",
      "TwitterWordle analyzed 3176 tweets for Wordle 232.\n",
      "\n",
      "10529 score patterns. 100 unique.\n",
      "\n",
      "Wordle 232 initial signal low 1.04. Iterating for better parameters\n",
      "...............................................\n",
      "Iterated to a better signal with min_count 1 and penalty -6.30E+08\n",
      "76.15%, (99/130) valid final guess patterns found. Impossible pattern count: 1.\n",
      "\n",
      "Wordle 232 prediction: SKILL.\n",
      "3.0 STD above mean. 1.1 above runner up.\n",
      "\n",
      "TwitterWordle analyzed 6179 tweets for Wordle 233.\n",
      "\n",
      "22090 score patterns. 136 unique.\n",
      "\n",
      "96.40%, (134/139) valid final guess patterns found. Impossible pattern count: 2.\n",
      "\n",
      "Wordle 233 prediction: ELDER.\n",
      "2.8 STD above mean. 1.23 above runner up.\n",
      "\n",
      "TwitterWordle analyzed 5945 tweets for Wordle 234.\n",
      "\n",
      "18443 score patterns. 141 unique.\n",
      "\n",
      "Wordle 234 initial signal low 1.05. Iterating for better parameters\n",
      "...............................................\n",
      "Iterated to a better signal with min_count 1 and penalty -7.00E+07\n",
      "86.96%, (140/161) valid final guess patterns found. Impossible pattern count: 1.\n",
      "\n",
      "Wordle 234 prediction: FRAME.\n",
      "3.5 STD above mean. 1.27 above runner up.\n",
      "\n",
      "TwitterWordle analyzed 6240 tweets for Wordle 235.\n",
      "\n",
      "19809 score patterns. 125 unique.\n",
      "\n",
      "88.97%, (121/136) valid final guess patterns found. Impossible pattern count: 4.\n",
      "\n",
      "Wordle 235 prediction: HUMOR.\n",
      "2.3 STD above mean. 1.17 above runner up.\n",
      "\n",
      "TwitterWordle analyzed 9626 tweets for Wordle 236.\n",
      "\n",
      "29157 score patterns. 157 unique.\n",
      "\n",
      "95.71%, (156/163) valid final guess patterns found. Impossible pattern count: 1.\n",
      "\n",
      "Wordle 236 prediction: PAUSE.\n",
      "3.0 STD above mean. 1.24 above runner up.\n",
      "\n",
      "TwitterWordle analyzed 9735 tweets for Wordle 237.\n",
      "\n",
      "32603 score patterns. 146 unique.\n",
      "\n",
      "94.48%, (137/145) valid final guess patterns found. Impossible pattern count: 9.\n",
      "\n",
      "Wordle 237 prediction: ULCER.\n",
      "2.6 STD above mean. 1.43 above runner up.\n",
      "\n",
      "TwitterWordle analyzed 6771 tweets for Wordle 238.\n",
      "\n",
      "21151 score patterns. 146 unique.\n",
      "\n",
      "97.18%, (138/142) valid final guess patterns found. Impossible pattern count: 8.\n",
      "\n",
      "Wordle 238 prediction: ULTRA.\n",
      "2.8 STD above mean. 1.3 above runner up.\n",
      "\n",
      "TwitterWordle analyzed 4862 tweets for Wordle 239.\n",
      "\n",
      "14591 score patterns. 143 unique.\n",
      "\n",
      "92.16%, (141/153) valid final guess patterns found. Impossible pattern count: 2.\n",
      "\n",
      "Wordle 239 prediction: ROBIN.\n",
      "2.8 STD above mean. 1.36 above runner up.\n",
      "\n",
      "TwitterWordle analyzed 6138 tweets for Wordle 240.\n",
      "\n",
      "21607 score patterns. 94 unique.\n",
      "\n",
      "87.50%, (91/104) valid final guess patterns found. Impossible pattern count: 3.\n",
      "\n",
      "Wordle 240 prediction: CYNIC.\n",
      "1.8 STD above mean. 1.13 above runner up.\n",
      "\n",
      "TwitterWordle analyzed 6563 tweets for Wordle 241.\n",
      "\n",
      "20158 score patterns. 145 unique.\n",
      "\n",
      "94.29%, (132/140) valid final guess patterns found. Impossible pattern count: 13.\n",
      "\n",
      "Wordle 241 prediction: AROMA.\n",
      "2.3 STD above mean. 1.22 above runner up.\n",
      "\n",
      "TwitterWordle analyzed 3068 tweets for Wordle 242.\n",
      "\n",
      "9841 score patterns. 149 unique.\n",
      "\n",
      "96.45%, (136/141) valid final guess patterns found. Impossible pattern count: 13.\n",
      "\n",
      "Wordle 242 prediction: CAULK.\n",
      "2.1 STD above mean. 1.29 above runner up.\n",
      "\n",
      "TwitterWordle analyzed 2625 tweets for Wordle 243.\n",
      "\n",
      "8674 score patterns. 145 unique.\n",
      "\n",
      "86.54%, (135/156) valid final guess patterns found. Impossible pattern count: 10.\n",
      "\n",
      "Wordle 243 prediction: SHAKE.\n",
      "2.3 STD above mean. 1.18 above runner up.\n",
      "\n",
      "TwitterWordle analyzed 3231 tweets for Wordle 244.\n",
      "\n",
      "11105 score patterns. 137 unique.\n",
      "\n",
      "92.48%, (123/133) valid final guess patterns found. Impossible pattern count: 14.\n",
      "\n",
      "Wordle 244 prediction: DODGE.\n",
      "2.0 STD above mean. 1.17 above runner up.\n",
      "\n",
      "TwitterWordle analyzed 2778 tweets for Wordle 245.\n",
      "\n",
      "10579 score patterns. 134 unique.\n",
      "\n",
      "91.27%, (115/126) valid final guess patterns found. Impossible pattern count: 19.\n",
      "\n",
      "Wordle 245 prediction: SWILL.\n",
      "1.9 STD above mean. 1.11 above runner up.\n",
      "\n",
      "TwitterWordle analyzed 3140 tweets for Wordle 246.\n",
      "\n",
      "10029 score patterns. 140 unique.\n",
      "\n",
      "88.74%, (134/151) valid final guess patterns found. Impossible pattern count: 6.\n",
      "\n",
      "Wordle 246 prediction: TACIT.\n",
      "2.0 STD above mean. 1.23 above runner up.\n",
      "\n"
     ]
    }
   ],
   "source": [
    "t.solve_all(mask_result=False)"
   ]
  },
  {
   "cell_type": "markdown",
   "id": "d64f9ee0",
   "metadata": {},
   "source": [
    "### Solve with acquired tweets\n",
    "\n",
    "If you have a Twitter developer account, I have a helper function for [searchtweets](https://pypi.org/project/searchtweets-v2/)  that will pull recent tweets for a given wordle number. It assumes a configuration in `~/.twitter_keys.yaml`.\n"
   ]
  },
  {
   "cell_type": "code",
   "execution_count": 10,
   "id": "ff289313",
   "metadata": {},
   "outputs": [
    {
     "name": "stdout",
     "output_type": "stream",
     "text": [
      "Loaded 2309 pre-computed lookup dictionaries.\n",
      "TwitterWordle analyzed 2864 tweets for Wordle 247.\n",
      "\n",
      "8195 score patterns. 123 unique.\n",
      "\n",
      "Wordle 247 initial signal low 1.07. Iterating for better parameters\n",
      "..."
     ]
    },
    {
     "name": "stderr",
     "output_type": "stream",
     "text": [
      "/Users/marcosh/Development/active_projects/TwitterWordle/TwitterWordle.py:48: SettingWithCopyWarning:\n",
      "\n",
      "\n",
      "A value is trying to be set on a copy of a slice from a DataFrame.\n",
      "Try using .loc[row_indexer,col_indexer] = value instead\n",
      "\n",
      "See the caveats in the documentation: https://pandas.pydata.org/pandas-docs/stable/user_guide/indexing.html#returning-a-view-versus-a-copy\n",
      "\n"
     ]
    },
    {
     "name": "stdout",
     "output_type": "stream",
     "text": [
      "...........................................................................................\n",
      "Iterated to a better signal with min_count 3 and penalty -9.00E+07\n",
      "84.96%, (113/133) valid final guess patterns found. Impossible pattern count: 10.\n",
      "\n",
      "Wordle 247 solution hash: d9298a10d1b0735837dc4bd85dac641b0f3cef27a47e5d53a54f2f3f5b2fcffa. 2.3 STD above mean. 1.13 above runner up.\n",
      "\n",
      "Solution match is TRUE\n"
     ]
    },
    {
     "data": {
      "application/vnd.plotly.v1+json": {
       "config": {
        "plotlyServerURL": "https://plot.ly"
       },
       "data": [
        {
         "alignmentgroup": "True",
         "hovertemplate": "variable=sum<br>Hashed Word=%{x}<br>Normalized Score=%{y}<extra></extra>",
         "legendgroup": "sum",
         "marker": {
          "color": "#636efa",
          "pattern": {
           "shape": ""
          }
         },
         "name": "sum",
         "offsetgroup": "sum",
         "orientation": "v",
         "showlegend": true,
         "textposition": "auto",
         "type": "bar",
         "x": [
          "a1b28fa",
          "c238f87",
          "91c996f",
          "73d1b1b",
          "bed7ef5",
          "ea7f932",
          "91e235e",
          "8c07f22",
          "d4cc56a",
          "92bc2e4",
          "c46dcb1",
          "6dbd0f2",
          "be66904",
          "f7a2411",
          "f7bb6ef",
          "b1601f6",
          "3868411",
          "da925a3",
          "8fe2155",
          "d9298a1"
         ],
         "xaxis": "x",
         "y": [
          0.0878438684902263,
          0.08816726131080999,
          0.0882185229491228,
          0.08822568072157999,
          0.08827846964382902,
          0.08841320144075038,
          0.08876749458531275,
          0.08889811986827767,
          0.08896237975893784,
          0.0894013893388208,
          0.09074767104077508,
          0.09113844146920713,
          0.0911751002259833,
          0.09256398610603611,
          0.09293150890576674,
          0.09341968011985324,
          0.0940343482936481,
          0.09765685149455705,
          0.1029188000815604,
          0.11581422082003034
         ],
         "yaxis": "y"
        }
       ],
       "layout": {
        "barmode": "relative",
        "legend": {
         "title": {
          "text": "variable"
         },
         "tracegroupgap": 0
        },
        "margin": {
         "t": 60
        },
        "template": {
         "data": {
          "bar": [
           {
            "error_x": {
             "color": "#2a3f5f"
            },
            "error_y": {
             "color": "#2a3f5f"
            },
            "marker": {
             "line": {
              "color": "#E5ECF6",
              "width": 0.5
             },
             "pattern": {
              "fillmode": "overlay",
              "size": 10,
              "solidity": 0.2
             }
            },
            "type": "bar"
           }
          ],
          "barpolar": [
           {
            "marker": {
             "line": {
              "color": "#E5ECF6",
              "width": 0.5
             },
             "pattern": {
              "fillmode": "overlay",
              "size": 10,
              "solidity": 0.2
             }
            },
            "type": "barpolar"
           }
          ],
          "carpet": [
           {
            "aaxis": {
             "endlinecolor": "#2a3f5f",
             "gridcolor": "white",
             "linecolor": "white",
             "minorgridcolor": "white",
             "startlinecolor": "#2a3f5f"
            },
            "baxis": {
             "endlinecolor": "#2a3f5f",
             "gridcolor": "white",
             "linecolor": "white",
             "minorgridcolor": "white",
             "startlinecolor": "#2a3f5f"
            },
            "type": "carpet"
           }
          ],
          "choropleth": [
           {
            "colorbar": {
             "outlinewidth": 0,
             "ticks": ""
            },
            "type": "choropleth"
           }
          ],
          "contour": [
           {
            "colorbar": {
             "outlinewidth": 0,
             "ticks": ""
            },
            "colorscale": [
             [
              0,
              "#0d0887"
             ],
             [
              0.1111111111111111,
              "#46039f"
             ],
             [
              0.2222222222222222,
              "#7201a8"
             ],
             [
              0.3333333333333333,
              "#9c179e"
             ],
             [
              0.4444444444444444,
              "#bd3786"
             ],
             [
              0.5555555555555556,
              "#d8576b"
             ],
             [
              0.6666666666666666,
              "#ed7953"
             ],
             [
              0.7777777777777778,
              "#fb9f3a"
             ],
             [
              0.8888888888888888,
              "#fdca26"
             ],
             [
              1,
              "#f0f921"
             ]
            ],
            "type": "contour"
           }
          ],
          "contourcarpet": [
           {
            "colorbar": {
             "outlinewidth": 0,
             "ticks": ""
            },
            "type": "contourcarpet"
           }
          ],
          "heatmap": [
           {
            "colorbar": {
             "outlinewidth": 0,
             "ticks": ""
            },
            "colorscale": [
             [
              0,
              "#0d0887"
             ],
             [
              0.1111111111111111,
              "#46039f"
             ],
             [
              0.2222222222222222,
              "#7201a8"
             ],
             [
              0.3333333333333333,
              "#9c179e"
             ],
             [
              0.4444444444444444,
              "#bd3786"
             ],
             [
              0.5555555555555556,
              "#d8576b"
             ],
             [
              0.6666666666666666,
              "#ed7953"
             ],
             [
              0.7777777777777778,
              "#fb9f3a"
             ],
             [
              0.8888888888888888,
              "#fdca26"
             ],
             [
              1,
              "#f0f921"
             ]
            ],
            "type": "heatmap"
           }
          ],
          "heatmapgl": [
           {
            "colorbar": {
             "outlinewidth": 0,
             "ticks": ""
            },
            "colorscale": [
             [
              0,
              "#0d0887"
             ],
             [
              0.1111111111111111,
              "#46039f"
             ],
             [
              0.2222222222222222,
              "#7201a8"
             ],
             [
              0.3333333333333333,
              "#9c179e"
             ],
             [
              0.4444444444444444,
              "#bd3786"
             ],
             [
              0.5555555555555556,
              "#d8576b"
             ],
             [
              0.6666666666666666,
              "#ed7953"
             ],
             [
              0.7777777777777778,
              "#fb9f3a"
             ],
             [
              0.8888888888888888,
              "#fdca26"
             ],
             [
              1,
              "#f0f921"
             ]
            ],
            "type": "heatmapgl"
           }
          ],
          "histogram": [
           {
            "marker": {
             "pattern": {
              "fillmode": "overlay",
              "size": 10,
              "solidity": 0.2
             }
            },
            "type": "histogram"
           }
          ],
          "histogram2d": [
           {
            "colorbar": {
             "outlinewidth": 0,
             "ticks": ""
            },
            "colorscale": [
             [
              0,
              "#0d0887"
             ],
             [
              0.1111111111111111,
              "#46039f"
             ],
             [
              0.2222222222222222,
              "#7201a8"
             ],
             [
              0.3333333333333333,
              "#9c179e"
             ],
             [
              0.4444444444444444,
              "#bd3786"
             ],
             [
              0.5555555555555556,
              "#d8576b"
             ],
             [
              0.6666666666666666,
              "#ed7953"
             ],
             [
              0.7777777777777778,
              "#fb9f3a"
             ],
             [
              0.8888888888888888,
              "#fdca26"
             ],
             [
              1,
              "#f0f921"
             ]
            ],
            "type": "histogram2d"
           }
          ],
          "histogram2dcontour": [
           {
            "colorbar": {
             "outlinewidth": 0,
             "ticks": ""
            },
            "colorscale": [
             [
              0,
              "#0d0887"
             ],
             [
              0.1111111111111111,
              "#46039f"
             ],
             [
              0.2222222222222222,
              "#7201a8"
             ],
             [
              0.3333333333333333,
              "#9c179e"
             ],
             [
              0.4444444444444444,
              "#bd3786"
             ],
             [
              0.5555555555555556,
              "#d8576b"
             ],
             [
              0.6666666666666666,
              "#ed7953"
             ],
             [
              0.7777777777777778,
              "#fb9f3a"
             ],
             [
              0.8888888888888888,
              "#fdca26"
             ],
             [
              1,
              "#f0f921"
             ]
            ],
            "type": "histogram2dcontour"
           }
          ],
          "mesh3d": [
           {
            "colorbar": {
             "outlinewidth": 0,
             "ticks": ""
            },
            "type": "mesh3d"
           }
          ],
          "parcoords": [
           {
            "line": {
             "colorbar": {
              "outlinewidth": 0,
              "ticks": ""
             }
            },
            "type": "parcoords"
           }
          ],
          "pie": [
           {
            "automargin": true,
            "type": "pie"
           }
          ],
          "scatter": [
           {
            "marker": {
             "colorbar": {
              "outlinewidth": 0,
              "ticks": ""
             }
            },
            "type": "scatter"
           }
          ],
          "scatter3d": [
           {
            "line": {
             "colorbar": {
              "outlinewidth": 0,
              "ticks": ""
             }
            },
            "marker": {
             "colorbar": {
              "outlinewidth": 0,
              "ticks": ""
             }
            },
            "type": "scatter3d"
           }
          ],
          "scattercarpet": [
           {
            "marker": {
             "colorbar": {
              "outlinewidth": 0,
              "ticks": ""
             }
            },
            "type": "scattercarpet"
           }
          ],
          "scattergeo": [
           {
            "marker": {
             "colorbar": {
              "outlinewidth": 0,
              "ticks": ""
             }
            },
            "type": "scattergeo"
           }
          ],
          "scattergl": [
           {
            "marker": {
             "colorbar": {
              "outlinewidth": 0,
              "ticks": ""
             }
            },
            "type": "scattergl"
           }
          ],
          "scattermapbox": [
           {
            "marker": {
             "colorbar": {
              "outlinewidth": 0,
              "ticks": ""
             }
            },
            "type": "scattermapbox"
           }
          ],
          "scatterpolar": [
           {
            "marker": {
             "colorbar": {
              "outlinewidth": 0,
              "ticks": ""
             }
            },
            "type": "scatterpolar"
           }
          ],
          "scatterpolargl": [
           {
            "marker": {
             "colorbar": {
              "outlinewidth": 0,
              "ticks": ""
             }
            },
            "type": "scatterpolargl"
           }
          ],
          "scatterternary": [
           {
            "marker": {
             "colorbar": {
              "outlinewidth": 0,
              "ticks": ""
             }
            },
            "type": "scatterternary"
           }
          ],
          "surface": [
           {
            "colorbar": {
             "outlinewidth": 0,
             "ticks": ""
            },
            "colorscale": [
             [
              0,
              "#0d0887"
             ],
             [
              0.1111111111111111,
              "#46039f"
             ],
             [
              0.2222222222222222,
              "#7201a8"
             ],
             [
              0.3333333333333333,
              "#9c179e"
             ],
             [
              0.4444444444444444,
              "#bd3786"
             ],
             [
              0.5555555555555556,
              "#d8576b"
             ],
             [
              0.6666666666666666,
              "#ed7953"
             ],
             [
              0.7777777777777778,
              "#fb9f3a"
             ],
             [
              0.8888888888888888,
              "#fdca26"
             ],
             [
              1,
              "#f0f921"
             ]
            ],
            "type": "surface"
           }
          ],
          "table": [
           {
            "cells": {
             "fill": {
              "color": "#EBF0F8"
             },
             "line": {
              "color": "white"
             }
            },
            "header": {
             "fill": {
              "color": "#C8D4E3"
             },
             "line": {
              "color": "white"
             }
            },
            "type": "table"
           }
          ]
         },
         "layout": {
          "annotationdefaults": {
           "arrowcolor": "#2a3f5f",
           "arrowhead": 0,
           "arrowwidth": 1
          },
          "autotypenumbers": "strict",
          "coloraxis": {
           "colorbar": {
            "outlinewidth": 0,
            "ticks": ""
           }
          },
          "colorscale": {
           "diverging": [
            [
             0,
             "#8e0152"
            ],
            [
             0.1,
             "#c51b7d"
            ],
            [
             0.2,
             "#de77ae"
            ],
            [
             0.3,
             "#f1b6da"
            ],
            [
             0.4,
             "#fde0ef"
            ],
            [
             0.5,
             "#f7f7f7"
            ],
            [
             0.6,
             "#e6f5d0"
            ],
            [
             0.7,
             "#b8e186"
            ],
            [
             0.8,
             "#7fbc41"
            ],
            [
             0.9,
             "#4d9221"
            ],
            [
             1,
             "#276419"
            ]
           ],
           "sequential": [
            [
             0,
             "#0d0887"
            ],
            [
             0.1111111111111111,
             "#46039f"
            ],
            [
             0.2222222222222222,
             "#7201a8"
            ],
            [
             0.3333333333333333,
             "#9c179e"
            ],
            [
             0.4444444444444444,
             "#bd3786"
            ],
            [
             0.5555555555555556,
             "#d8576b"
            ],
            [
             0.6666666666666666,
             "#ed7953"
            ],
            [
             0.7777777777777778,
             "#fb9f3a"
            ],
            [
             0.8888888888888888,
             "#fdca26"
            ],
            [
             1,
             "#f0f921"
            ]
           ],
           "sequentialminus": [
            [
             0,
             "#0d0887"
            ],
            [
             0.1111111111111111,
             "#46039f"
            ],
            [
             0.2222222222222222,
             "#7201a8"
            ],
            [
             0.3333333333333333,
             "#9c179e"
            ],
            [
             0.4444444444444444,
             "#bd3786"
            ],
            [
             0.5555555555555556,
             "#d8576b"
            ],
            [
             0.6666666666666666,
             "#ed7953"
            ],
            [
             0.7777777777777778,
             "#fb9f3a"
            ],
            [
             0.8888888888888888,
             "#fdca26"
            ],
            [
             1,
             "#f0f921"
            ]
           ]
          },
          "colorway": [
           "#636efa",
           "#EF553B",
           "#00cc96",
           "#ab63fa",
           "#FFA15A",
           "#19d3f3",
           "#FF6692",
           "#B6E880",
           "#FF97FF",
           "#FECB52"
          ],
          "font": {
           "color": "#2a3f5f"
          },
          "geo": {
           "bgcolor": "white",
           "lakecolor": "white",
           "landcolor": "#E5ECF6",
           "showlakes": true,
           "showland": true,
           "subunitcolor": "white"
          },
          "hoverlabel": {
           "align": "left"
          },
          "hovermode": "closest",
          "mapbox": {
           "style": "light"
          },
          "paper_bgcolor": "white",
          "plot_bgcolor": "#E5ECF6",
          "polar": {
           "angularaxis": {
            "gridcolor": "white",
            "linecolor": "white",
            "ticks": ""
           },
           "bgcolor": "#E5ECF6",
           "radialaxis": {
            "gridcolor": "white",
            "linecolor": "white",
            "ticks": ""
           }
          },
          "scene": {
           "xaxis": {
            "backgroundcolor": "#E5ECF6",
            "gridcolor": "white",
            "gridwidth": 2,
            "linecolor": "white",
            "showbackground": true,
            "ticks": "",
            "zerolinecolor": "white"
           },
           "yaxis": {
            "backgroundcolor": "#E5ECF6",
            "gridcolor": "white",
            "gridwidth": 2,
            "linecolor": "white",
            "showbackground": true,
            "ticks": "",
            "zerolinecolor": "white"
           },
           "zaxis": {
            "backgroundcolor": "#E5ECF6",
            "gridcolor": "white",
            "gridwidth": 2,
            "linecolor": "white",
            "showbackground": true,
            "ticks": "",
            "zerolinecolor": "white"
           }
          },
          "shapedefaults": {
           "line": {
            "color": "#2a3f5f"
           }
          },
          "ternary": {
           "aaxis": {
            "gridcolor": "white",
            "linecolor": "white",
            "ticks": ""
           },
           "baxis": {
            "gridcolor": "white",
            "linecolor": "white",
            "ticks": ""
           },
           "bgcolor": "#E5ECF6",
           "caxis": {
            "gridcolor": "white",
            "linecolor": "white",
            "ticks": ""
           }
          },
          "title": {
           "x": 0.05
          },
          "xaxis": {
           "automargin": true,
           "gridcolor": "white",
           "linecolor": "white",
           "ticks": "",
           "title": {
            "standoff": 15
           },
           "zerolinecolor": "white",
           "zerolinewidth": 2
          },
          "yaxis": {
           "automargin": true,
           "gridcolor": "white",
           "linecolor": "white",
           "ticks": "",
           "title": {
            "standoff": 15
           },
           "zerolinecolor": "white",
           "zerolinewidth": 2
          }
         }
        },
        "xaxis": {
         "anchor": "y",
         "domain": [
          0,
          1
         ],
         "title": {
          "text": "Hashed Word"
         }
        },
        "yaxis": {
         "anchor": "x",
         "domain": [
          0,
          1
         ],
         "title": {
          "text": "Normalized Score"
         }
        }
       }
      }
     },
     "metadata": {},
     "output_type": "display_data"
    },
    {
     "data": {
      "text/plain": [
       "'d9298a10d1b0735837dc4bd85dac641b0f3cef27a47e5d53a54f2f3f5b2fcffa'"
      ]
     },
     "execution_count": 10,
     "metadata": {},
     "output_type": "execute_result"
    }
   ],
   "source": [
    "from get_tweets import get_tweets\n",
    "tweets = get_tweets(247,return_df=True)\n",
    "t = TwitterWordle(tweets)\n",
    "t.solve(247,mask_result=True,plot=True)"
   ]
  },
  {
   "cell_type": "markdown",
   "id": "709ba6ad",
   "metadata": {},
   "source": [
    "### Solve using the full 12972 length dictionary.\n",
    "\n",
    "Limiting to the 2315 possible wordle answers likely improves performance, however the code works well considering all 12972 guessable words as possible answers.\n",
    "\n",
    "In mid-February, 2022, the NY Times removed a few wordle answers and allowable guesses. Specifically, some players continue to play cached/archive versions of the original word list, and 'impossible scores' have become much more common on Twitter, with the majority playing the official Wordle, but a few people playing against a different target word.\n",
    "\n",
    "The code has been generally robust to this, but raising the min_count may be necessary after 2022-02-15."
   ]
  },
  {
   "cell_type": "code",
   "execution_count": 13,
   "id": "80c258db",
   "metadata": {},
   "outputs": [
    {
     "name": "stdout",
     "output_type": "stream",
     "text": [
      "Loaded 12945 pre-computed lookup dictionaries.\n"
     ]
    },
    {
     "name": "stderr",
     "output_type": "stream",
     "text": [
      "/Users/marcosh/Development/active_projects/TwitterWordle/TwitterWordle.py:48: SettingWithCopyWarning:\n",
      "\n",
      "\n",
      "A value is trying to be set on a copy of a slice from a DataFrame.\n",
      "Try using .loc[row_indexer,col_indexer] = value instead\n",
      "\n",
      "See the caveats in the documentation: https://pandas.pydata.org/pandas-docs/stable/user_guide/indexing.html#returning-a-view-versus-a-copy\n",
      "\n"
     ]
    }
   ],
   "source": [
    "t_full_dictionary = TwitterWordle(df,use_limited_targets=False)\n"
   ]
  },
  {
   "cell_type": "code",
   "execution_count": 14,
   "id": "bf15f050",
   "metadata": {},
   "outputs": [
    {
     "name": "stdout",
     "output_type": "stream",
     "text": [
      "TwitterWordle analyzed 2724 tweets for Wordle 210.\n",
      "\n",
      "7677 score patterns. 132 unique.\n",
      "\n",
      "Wordle 210 initial signal low 1.06. Iterating for better parameters\n",
      "...............................................\n",
      "Iterated to a better signal with min_count 1 and penalty -5.70E+08\n",
      "89.58%, (129/144) valid final guess patterns found. Impossible pattern count: 3.\n",
      "\n",
      "Wordle 210 prediction: PANIC.\n",
      "2.9 STD above mean. 1.1 above runner up.\n",
      "\n",
      "TwitterWordle analyzed 2764 tweets for Wordle 211.\n",
      "\n",
      "8014 score patterns. 164 unique.\n",
      "\n",
      "92.49%, (160/173) valid final guess patterns found. Impossible pattern count: 4.\n",
      "\n",
      "Wordle 211 prediction: SOLAR.\n",
      "3.1 STD above mean. 1.15 above runner up.\n",
      "\n",
      "TwitterWordle analyzed 2287 tweets for Wordle 212.\n",
      "\n",
      "6521 score patterns. 159 unique.\n",
      "\n",
      "89.66%, (156/174) valid final guess patterns found. Impossible pattern count: 3.\n",
      "\n",
      "Wordle 212 prediction: SHIRE.\n",
      "3.5 STD above mean. 1.23 above runner up.\n",
      "\n",
      "TwitterWordle analyzed 2018 tweets for Wordle 213.\n",
      "\n",
      "7260 score patterns. 94 unique.\n",
      "\n",
      "Wordle 213 initial signal low 1.05. Iterating for better parameters\n",
      "..........................................................................................................................................................................................................................................................................................\n",
      "Iterated to a better signal with min_count 11 and penalty -9.90E+08\n",
      "80.00%, (88/110) valid final guess patterns found. Impossible pattern count: 6.\n",
      "\n",
      "Wordle 213 prediction: PROXY.\n",
      "2.1 STD above mean. 1.08 above runner up.\n",
      "\n",
      "TwitterWordle analyzed 2585 tweets for Wordle 214.\n",
      "\n",
      "6648 score patterns. 142 unique.\n",
      "\n",
      "86.79%, (138/159) valid final guess patterns found. Impossible pattern count: 4.\n",
      "\n",
      "Wordle 214 prediction: POINT.\n",
      "2.0 STD above mean. 1.19 above runner up.\n",
      "\n",
      "TwitterWordle analyzed 2820 tweets for Wordle 215.\n",
      "\n",
      "8140 score patterns. 126 unique.\n",
      "\n",
      "Wordle 215 initial signal low 1.09. Iterating for better parameters\n",
      "...............................................\n",
      "Iterated to a better signal with min_count 1 and penalty -7.00E+07\n",
      "87.77%, (122/139) valid final guess patterns found. Impossible pattern count: 4.\n",
      "\n",
      "Wordle 215 prediction: ROBOT.\n",
      "2.4 STD above mean. 1.14 above runner up.\n",
      "\n",
      "TwitterWordle analyzed 5878 tweets for Wordle 216.\n",
      "\n",
      "16778 score patterns. 121 unique.\n",
      "\n",
      "Wordle 216 initial signal low 1.05. Iterating for better parameters\n",
      "...............................................\n",
      "Iterated to a better signal with min_count 1 and penalty -7.00E+07\n",
      "91.27%, (115/126) valid final guess patterns found. Impossible pattern count: 6.\n",
      "\n",
      "Wordle 216 prediction: PRICK.\n",
      "2.5 STD above mean. 1.15 above runner up.\n",
      "\n",
      "TwitterWordle analyzed 2834 tweets for Wordle 217.\n",
      "\n",
      "9353 score patterns. 124 unique.\n",
      "\n",
      "89.21%, (124/139) valid final guess patterns found. Impossible pattern count: 0.\n",
      "\n",
      "Wordle 217 prediction: WINCE.\n",
      "1.8 STD above mean. 1.13 above runner up.\n",
      "\n",
      "TwitterWordle analyzed 3357 tweets for Wordle 218.\n",
      "\n",
      "9843 score patterns. 108 unique.\n",
      "\n",
      "Wordle 218 initial signal low 1.08. Iterating for better parameters\n",
      "...............................................\n",
      "Iterated to a better signal with min_count 1 and penalty -7.00E+07\n",
      "85.48%, (106/124) valid final guess patterns found. Impossible pattern count: 2.\n",
      "\n",
      "Wordle 218 prediction: CRIMP.\n",
      "2.4 STD above mean. 1.23 above runner up.\n",
      "\n",
      "TwitterWordle analyzed 2772 tweets for Wordle 219.\n",
      "\n",
      "9967 score patterns. 102 unique.\n",
      "\n",
      "88.50%, (100/113) valid final guess patterns found. Impossible pattern count: 2.\n",
      "\n",
      "Wordle 219 prediction: KNOLL.\n",
      "2.0 STD above mean. 1.13 above runner up.\n",
      "\n",
      "TwitterWordle analyzed 6388 tweets for Wordle 220.\n",
      "\n",
      "19594 score patterns. 163 unique.\n",
      "\n",
      "96.39%, (160/166) valid final guess patterns found. Impossible pattern count: 3.\n",
      "\n",
      "Wordle 220 prediction: SUGAR.\n",
      "3.6 STD above mean. 1.33 above runner up.\n",
      "\n",
      "TwitterWordle analyzed 6361 tweets for Wordle 221.\n",
      "\n",
      "19754 score patterns. 103 unique.\n",
      "\n",
      "85.00%, (102/120) valid final guess patterns found. Impossible pattern count: 1.\n",
      "\n",
      "Wordle 221 prediction: WHACK.\n",
      "2.3 STD above mean. 1.14 above runner up.\n",
      "\n",
      "TwitterWordle analyzed 6459 tweets for Wordle 222.\n",
      "\n",
      "18530 score patterns. 133 unique.\n",
      "\n",
      "87.76%, (129/147) valid final guess patterns found. Impossible pattern count: 4.\n",
      "\n",
      "Wordle 222 prediction: MOUNT.\n",
      "2.2 STD above mean. 1.15 above runner up.\n",
      "\n",
      "TwitterWordle analyzed 15094 tweets for Wordle 223.\n",
      "\n",
      "50756 score patterns. 143 unique.\n",
      "\n",
      "95.30%, (142/149) valid final guess patterns found. Impossible pattern count: 1.\n",
      "\n",
      "Wordle 223 prediction: PERKY.\n",
      "2.5 STD above mean. 1.17 above runner up.\n",
      "\n",
      "TwitterWordle analyzed 6652 tweets for Wordle 224.\n",
      "\n",
      "19326 score patterns. 134 unique.\n",
      "\n",
      "91.67%, (132/144) valid final guess patterns found. Impossible pattern count: 2.\n",
      "\n",
      "Wordle 224 prediction: COULD.\n",
      "1.9 STD above mean. 1.15 above runner up.\n",
      "\n",
      "TwitterWordle analyzed 6629 tweets for Wordle 225.\n",
      "\n",
      "21485 score patterns. 96 unique.\n",
      "\n",
      "Wordle 225 initial signal low 1.03. Iterating for better parameters\n",
      "...............................................\n",
      "Iterated to a better signal with min_count 1 and penalty -7.00E+07\n",
      "89.72%, (96/107) valid final guess patterns found. Impossible pattern count: 0.\n",
      "\n",
      "Wordle 225 prediction: WRUNG.\n",
      "2.0 STD above mean. 1.11 above runner up.\n",
      "\n",
      "TwitterWordle analyzed 5819 tweets for Wordle 226.\n",
      "\n",
      "16750 score patterns. 116 unique.\n",
      "\n",
      "Wordle 226 initial signal low 1.05. Iterating for better parameters\n",
      "..............................................................................................\n",
      "Iterated to a better signal with min_count 3 and penalty -1.10E+08\n",
      "89.52%, (111/124) valid final guess patterns found. Impossible pattern count: 5.\n",
      "\n",
      "Wordle 226 prediction: LIGHT.\n",
      "2.3 STD above mean. 1.11 above runner up.\n",
      "\n",
      "TwitterWordle analyzed 6549 tweets for Wordle 227.\n",
      "\n",
      "17218 score patterns. 155 unique.\n",
      "\n",
      "93.87%, (153/163) valid final guess patterns found. Impossible pattern count: 2.\n",
      "\n",
      "Wordle 227 prediction: THOSE.\n",
      "3.2 STD above mean. 1.22 above runner up.\n",
      "\n",
      "TwitterWordle analyzed 5728 tweets for Wordle 228.\n",
      "\n",
      "15530 score patterns. 153 unique.\n",
      "\n",
      "91.57%, (152/166) valid final guess patterns found. Impossible pattern count: 1.\n",
      "\n",
      "Wordle 228 prediction: MOIST.\n",
      "3.2 STD above mean. 1.23 above runner up.\n",
      "\n",
      "TwitterWordle analyzed 6236 tweets for Wordle 229.\n",
      "\n",
      "19361 score patterns. 140 unique.\n",
      "\n",
      "89.17%, (140/157) valid final guess patterns found. Impossible pattern count: 0.\n",
      "\n",
      "Wordle 229 prediction: SHARD.\n",
      "2.8 STD above mean. 1.16 above runner up.\n",
      "\n",
      "TwitterWordle analyzed 6396 tweets for Wordle 230.\n",
      "\n",
      "18346 score patterns. 173 unique.\n",
      "\n",
      "93.51%, (173/185) valid final guess patterns found. Impossible pattern count: 0.\n",
      "\n",
      "Wordle 230 prediction: PLEAT.\n",
      "4.0 STD above mean. 1.34 above runner up.\n",
      "\n",
      "TwitterWordle analyzed 7521 tweets for Wordle 231.\n",
      "\n",
      "23563 score patterns. 135 unique.\n",
      "\n",
      "93.01%, (133/143) valid final guess patterns found. Impossible pattern count: 2.\n",
      "\n",
      "Wordle 231 prediction: ALOFT.\n",
      "2.1 STD above mean. 1.29 above runner up.\n",
      "\n",
      "TwitterWordle analyzed 3176 tweets for Wordle 232.\n",
      "\n",
      "10529 score patterns. 100 unique.\n",
      "\n",
      "Wordle 232 initial signal low 1.03. Iterating for better parameters\n",
      "..............................................................................................\n",
      "Iterated to a better signal with min_count 3 and penalty -5.30E+08\n",
      "76.15%, (99/130) valid final guess patterns found. Impossible pattern count: 1.\n",
      "\n",
      "Wordle 232 prediction: SKILL.\n",
      "3.2 STD above mean. 1.1 above runner up.\n",
      "\n",
      "TwitterWordle analyzed 6179 tweets for Wordle 233.\n",
      "\n",
      "22090 score patterns. 136 unique.\n",
      "\n",
      "96.40%, (134/139) valid final guess patterns found. Impossible pattern count: 2.\n",
      "\n",
      "Wordle 233 prediction: ELDER.\n",
      "2.6 STD above mean. 1.14 above runner up.\n",
      "\n",
      "TwitterWordle analyzed 5945 tweets for Wordle 234.\n",
      "\n",
      "18443 score patterns. 141 unique.\n",
      "\n",
      "Wordle 234 initial signal low 1.01. Iterating for better parameters\n",
      "...............................................\n",
      "Iterated to a better signal with min_count 1 and penalty -7.00E+07\n",
      "86.96%, (140/161) valid final guess patterns found. Impossible pattern count: 1.\n",
      "\n",
      "Wordle 234 prediction: FRAME.\n",
      "3.6 STD above mean. 1.13 above runner up.\n",
      "\n",
      "TwitterWordle analyzed 6240 tweets for Wordle 235.\n",
      "\n",
      "19809 score patterns. 125 unique.\n",
      "\n",
      "88.97%, (121/136) valid final guess patterns found. Impossible pattern count: 4.\n",
      "\n",
      "Wordle 235 prediction: HUMOR.\n",
      "2.1 STD above mean. 1.15 above runner up.\n",
      "\n",
      "TwitterWordle analyzed 9626 tweets for Wordle 236.\n",
      "\n",
      "29157 score patterns. 157 unique.\n",
      "\n",
      "95.71%, (156/163) valid final guess patterns found. Impossible pattern count: 1.\n",
      "\n",
      "Wordle 236 prediction: PAUSE.\n",
      "3.0 STD above mean. 1.26 above runner up.\n",
      "\n",
      "TwitterWordle analyzed 9735 tweets for Wordle 237.\n",
      "\n",
      "32603 score patterns. 146 unique.\n",
      "\n",
      "94.48%, (137/145) valid final guess patterns found. Impossible pattern count: 9.\n",
      "\n",
      "Wordle 237 prediction: ULCER.\n",
      "2.5 STD above mean. 1.28 above runner up.\n",
      "\n",
      "TwitterWordle analyzed 6771 tweets for Wordle 238.\n",
      "\n",
      "21151 score patterns. 146 unique.\n",
      "\n",
      "97.18%, (138/142) valid final guess patterns found. Impossible pattern count: 8.\n",
      "\n",
      "Wordle 238 prediction: ULTRA.\n",
      "2.8 STD above mean. 1.31 above runner up.\n",
      "\n",
      "TwitterWordle analyzed 4862 tweets for Wordle 239.\n",
      "\n",
      "14591 score patterns. 143 unique.\n",
      "\n",
      "92.16%, (141/153) valid final guess patterns found. Impossible pattern count: 2.\n",
      "\n",
      "Wordle 239 prediction: ROBIN.\n",
      "2.8 STD above mean. 1.28 above runner up.\n",
      "\n",
      "TwitterWordle analyzed 6138 tweets for Wordle 240.\n",
      "\n",
      "21607 score patterns. 94 unique.\n",
      "\n",
      "Wordle 240 initial signal low 1.09. Iterating for better parameters\n",
      "..............................................................................................\n",
      "Iterated to a better signal with min_count 3 and penalty -7.00E+07\n",
      "87.50%, (91/104) valid final guess patterns found. Impossible pattern count: 3.\n",
      "\n",
      "Wordle 240 prediction: CYNIC.\n",
      "1.9 STD above mean. 1.11 above runner up.\n",
      "\n",
      "TwitterWordle analyzed 6563 tweets for Wordle 241.\n",
      "\n",
      "20158 score patterns. 145 unique.\n",
      "\n",
      "94.29%, (132/140) valid final guess patterns found. Impossible pattern count: 13.\n",
      "\n",
      "Wordle 241 prediction: AROMA.\n",
      "2.1 STD above mean. 1.17 above runner up.\n",
      "\n",
      "TwitterWordle analyzed 3068 tweets for Wordle 242.\n",
      "\n",
      "9841 score patterns. 149 unique.\n",
      "\n",
      "96.45%, (136/141) valid final guess patterns found. Impossible pattern count: 13.\n",
      "\n",
      "Wordle 242 prediction: CAULK.\n",
      "2.1 STD above mean. 1.12 above runner up.\n",
      "\n",
      "TwitterWordle analyzed 2625 tweets for Wordle 243.\n",
      "\n",
      "8674 score patterns. 145 unique.\n",
      "\n",
      "86.54%, (135/156) valid final guess patterns found. Impossible pattern count: 10.\n",
      "\n",
      "Wordle 243 prediction: SHAKE.\n",
      "2.3 STD above mean. 1.16 above runner up.\n",
      "\n",
      "TwitterWordle analyzed 3231 tweets for Wordle 244.\n",
      "\n",
      "11105 score patterns. 137 unique.\n",
      "\n",
      "92.48%, (123/133) valid final guess patterns found. Impossible pattern count: 14.\n",
      "\n",
      "Wordle 244 prediction: DODGE.\n",
      "2.0 STD above mean. 1.11 above runner up.\n",
      "\n",
      "TwitterWordle analyzed 2778 tweets for Wordle 245.\n",
      "\n",
      "10579 score patterns. 134 unique.\n",
      "\n",
      "Wordle 245 initial signal low 1.1. Iterating for better parameters\n",
      "............................................................................................................................................................................................\n",
      "Iterated to a better signal with min_count 7 and penalty -9.00E+07\n",
      "91.27%, (115/126) valid final guess patterns found. Impossible pattern count: 19.\n",
      "\n",
      "Wordle 245 prediction: SWILL.\n",
      "2.4 STD above mean. 1.1 above runner up.\n",
      "\n",
      "TwitterWordle analyzed 3140 tweets for Wordle 246.\n",
      "\n",
      "10029 score patterns. 140 unique.\n",
      "\n",
      "88.74%, (134/151) valid final guess patterns found. Impossible pattern count: 6.\n",
      "\n",
      "Wordle 246 prediction: TACIT.\n",
      "2.0 STD above mean. 1.18 above runner up.\n",
      "\n"
     ]
    }
   ],
   "source": [
    "t_full_dictionary.solve_all(mask_result=False)"
   ]
  }
 ],
 "metadata": {
  "kernelspec": {
   "display_name": "Python 3 (ipykernel)",
   "language": "python",
   "name": "python3"
  },
  "language_info": {
   "codemirror_mode": {
    "name": "ipython",
    "version": 3
   },
   "file_extension": ".py",
   "mimetype": "text/x-python",
   "name": "python",
   "nbconvert_exporter": "python",
   "pygments_lexer": "ipython3",
   "version": "3.9.6"
  },
  "toc": {
   "base_numbering": 1,
   "nav_menu": {},
   "number_sections": true,
   "sideBar": true,
   "skip_h1_title": false,
   "title_cell": "Table of Contents",
   "title_sidebar": "Contents",
   "toc_cell": false,
   "toc_position": {},
   "toc_section_display": true,
   "toc_window_display": false
  }
 },
 "nbformat": 4,
 "nbformat_minor": 5
}
